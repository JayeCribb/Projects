{
 "cells": [
  {
   "cell_type": "markdown",
   "metadata": {},
   "source": [
    "## Predicting Data Science Salaries"
   ]
  },
  {
   "cell_type": "markdown",
   "metadata": {},
   "source": [
    "The aim of the following is to collect data by scraping in order to build a binary predictor using Logistic Regression. The data being collected is Data Science salary information from indeed. While most listings on Indeed do not come with salary inforamtion, being able to extrapolate or predict the expected salaries from other listings with salary information can be extremely useful. The data being collected will include job location, title, summary and salary, with the end goal of predicting whether a salary will be 'high' or 'low', indicated by the median salary from the listings with information."
   ]
  },
  {
   "cell_type": "code",
   "execution_count": 52,
   "metadata": {
    "collapsed": true
   },
   "outputs": [],
   "source": [
    "# Load libraries\n",
    "\n",
    "from __future__ import division, unicode_literals\n",
    "import itertools\n",
    "import urllib2\n",
    "import requests\n",
    "from bs4 import BeautifulSoup\n",
    "\n",
    "import numpy as np\n",
    "import pandas as pd\n",
    "import matplotlib.pyplot as plt\n",
    "%matplotlib inline\n",
    "import seaborn as sns\n",
    "\n",
    "\n",
    "from scipy import stats\n",
    "import statsmodels.api as sm\n",
    "from sklearn import datasets, metrics, linear_model, feature_selection, preprocessing\n",
    "from sklearn.metrics import mean_squared_error, mean_absolute_error, r2_score, confusion_matrix\n",
    "from sklearn.model_selection import cross_val_predict, cross_val_score, train_test_split\n",
    "from sklearn.metrics import classification_report, confusion_matrix, accuracy_score, roc_curve, auc\n",
    "from sklearn.linear_model import LogisticRegression, LogisticRegressionCV\n",
    "from sklearn.feature_extraction.text import CountVectorizer\n",
    "from sklearn.model_selection import GridSearchCV\n",
    "from sklearn.preprocessing import StandardScaler"
   ]
  },
  {
   "cell_type": "markdown",
   "metadata": {},
   "source": [
    "### Aquiring data"
   ]
  },
  {
   "cell_type": "code",
   "execution_count": 29,
   "metadata": {
    "collapsed": false
   },
   "outputs": [],
   "source": [
    "# Scraping Indeed for job listings using BeautifulSoup.\n",
    "\n",
    "url = 'https://www.indeed.com/jobs?q=data+scientist&l=New+York'\n",
    "\n",
    "response = requests.get(url)\n",
    "page = response.text\n",
    "soup = BeautifulSoup(page, \"lxml\")\n",
    "result_list = soup.findAll(\"div\", class_=\" row result\")"
   ]
  },
  {
   "cell_type": "markdown",
   "metadata": {},
   "source": [
    "In order to parse a website, we need to first define a set of functions that find the results we are looking for in the soup. "
   ]
  },
  {
   "cell_type": "code",
   "execution_count": 30,
   "metadata": {
    "collapsed": true
   },
   "outputs": [],
   "source": [
    "# The location is set in a span with class='location'.\n",
    "def extract_location_from_result(result):\n",
    "    \n",
    "    loc = result.find(\"span\", class_=\"location\").text\n",
    "    return loc\n",
    "\n",
    "# The salary is available in a nobr element inside of a td element with class='snip'. \n",
    "# Not all results have a salary so a try / except statement is needed\n",
    "def extract_salary_from_result(result):\n",
    "    try:\n",
    "        sal = result.find('td', class_='snip').nobr.text\n",
    "    except:\n",
    "        sal = \"\"\n",
    "    return sal\n",
    "\n",
    "# The title of a job is set within an h2 element\n",
    "def extract_job_title_from_result(result):\n",
    "    job = result.h2.a.get(\"title\")\n",
    "    return job\n",
    "\n",
    "# The company is set in a span with class='company'.\n",
    "def extract_company_from_result(result):\n",
    "    comp = result.find(\"span\", class_=\"company\").text.strip()\n",
    "    return comp\n",
    "\n",
    "# Extract job summary/specification which is set in the span with class = 'summary'.\n",
    "def extract_summary_from_result(result):\n",
    "    summary = result.find(\"span\", class_=\"summary\").text.strip()\n",
    "    return summary"
   ]
  },
  {
   "cell_type": "code",
   "execution_count": 31,
   "metadata": {
    "collapsed": false
   },
   "outputs": [
    {
     "name": "stdout",
     "output_type": "stream",
     "text": [
      "Location:  New York, NY\n",
      "Salary:  \n",
      "Job Title:  Data Scientist\n",
      "Company:  Amazon Corporate LLC\n",
      "Summary:  Leading in Machine Learning requires the best scientists in the world. The Amazon Web Services (AWS) Machine Learning group is looking for scientists to join...\n"
     ]
    }
   ],
   "source": [
    "# Get information from first result\n",
    "\n",
    "print 'Location: ', extract_location_from_result(result_list[0])\n",
    "print 'Salary: ', extract_salary_from_result(result_list[0])\n",
    "print 'Job Title: ', extract_job_title_from_result(result_list[0])\n",
    "print 'Company: ', extract_company_from_result(result_list[0])\n",
    "print 'Summary: ', extract_summary_from_result(result_list[0])"
   ]
  },
  {
   "cell_type": "code",
   "execution_count": 32,
   "metadata": {
    "collapsed": false,
    "scrolled": true
   },
   "outputs": [
    {
     "name": "stdout",
     "output_type": "stream",
     "text": [
      "http://www.indeed.com/jobs?q=data+scientist&l=New+York&start=0\n",
      "http://www.indeed.com/jobs?q=data+scientist&l=New+York&start=10\n",
      "http://www.indeed.com/jobs?q=data+scientist&l=New+York&start=20\n",
      "http://www.indeed.com/jobs?q=data+scientist&l=New+York&start=30\n",
      "http://www.indeed.com/jobs?q=data+scientist&l=New+York&start=40\n",
      "http://www.indeed.com/jobs?q=data+scientist&l=New+York&start=50\n",
      "http://www.indeed.com/jobs?q=data+scientist&l=New+York&start=60\n",
      "http://www.indeed.com/jobs?q=data+scientist&l=New+York&start=70\n",
      "http://www.indeed.com/jobs?q=data+scientist&l=New+York&start=80\n",
      "http://www.indeed.com/jobs?q=data+scientist&l=New+York&start=90\n",
      "http://www.indeed.com/jobs?q=data+scientist&l=New+York&start=100\n",
      "http://www.indeed.com/jobs?q=data+scientist&l=New+York&start=110\n",
      "http://www.indeed.com/jobs?q=data+scientist&l=New+York&start=120\n",
      "http://www.indeed.com/jobs?q=data+scientist&l=New+York&start=130\n",
      "http://www.indeed.com/jobs?q=data+scientist&l=New+York&start=140\n",
      "http://www.indeed.com/jobs?q=data+scientist&l=New+York&start=150\n",
      "http://www.indeed.com/jobs?q=data+scientist&l=New+York&start=160\n",
      "http://www.indeed.com/jobs?q=data+scientist&l=New+York&start=170\n",
      "http://www.indeed.com/jobs?q=data+scientist&l=New+York&start=180\n",
      "http://www.indeed.com/jobs?q=data+scientist&l=New+York&start=190\n",
      "http://www.indeed.com/jobs?q=data+scientist&l=New+York&start=200\n",
      "http://www.indeed.com/jobs?q=data+scientist&l=New+York&start=210\n",
      "http://www.indeed.com/jobs?q=data+scientist&l=New+York&start=220\n",
      "http://www.indeed.com/jobs?q=data+scientist&l=New+York&start=230\n",
      "http://www.indeed.com/jobs?q=data+scientist&l=New+York&start=240\n",
      "http://www.indeed.com/jobs?q=data+scientist&l=New+York&start=250\n",
      "http://www.indeed.com/jobs?q=data+scientist&l=New+York&start=260\n",
      "http://www.indeed.com/jobs?q=data+scientist&l=New+York&start=270\n",
      "http://www.indeed.com/jobs?q=data+scientist&l=New+York&start=280\n",
      "http://www.indeed.com/jobs?q=data+scientist&l=New+York&start=290\n",
      "http://www.indeed.com/jobs?q=data+scientist&l=Chicago&start=0\n",
      "http://www.indeed.com/jobs?q=data+scientist&l=Chicago&start=10\n",
      "http://www.indeed.com/jobs?q=data+scientist&l=Chicago&start=20\n",
      "http://www.indeed.com/jobs?q=data+scientist&l=Chicago&start=30\n",
      "http://www.indeed.com/jobs?q=data+scientist&l=Chicago&start=40\n",
      "http://www.indeed.com/jobs?q=data+scientist&l=Chicago&start=50\n",
      "http://www.indeed.com/jobs?q=data+scientist&l=Chicago&start=60\n",
      "http://www.indeed.com/jobs?q=data+scientist&l=Chicago&start=70\n",
      "http://www.indeed.com/jobs?q=data+scientist&l=Chicago&start=80\n",
      "http://www.indeed.com/jobs?q=data+scientist&l=Chicago&start=90\n",
      "http://www.indeed.com/jobs?q=data+scientist&l=Chicago&start=100\n",
      "http://www.indeed.com/jobs?q=data+scientist&l=Chicago&start=110\n",
      "http://www.indeed.com/jobs?q=data+scientist&l=Chicago&start=120\n",
      "http://www.indeed.com/jobs?q=data+scientist&l=Chicago&start=130\n",
      "http://www.indeed.com/jobs?q=data+scientist&l=Chicago&start=140\n",
      "http://www.indeed.com/jobs?q=data+scientist&l=Chicago&start=150\n",
      "http://www.indeed.com/jobs?q=data+scientist&l=Chicago&start=160\n",
      "http://www.indeed.com/jobs?q=data+scientist&l=Chicago&start=170\n",
      "http://www.indeed.com/jobs?q=data+scientist&l=Chicago&start=180\n",
      "http://www.indeed.com/jobs?q=data+scientist&l=Chicago&start=190\n",
      "http://www.indeed.com/jobs?q=data+scientist&l=Chicago&start=200\n",
      "http://www.indeed.com/jobs?q=data+scientist&l=Chicago&start=210\n",
      "http://www.indeed.com/jobs?q=data+scientist&l=Chicago&start=220\n",
      "http://www.indeed.com/jobs?q=data+scientist&l=Chicago&start=230\n",
      "http://www.indeed.com/jobs?q=data+scientist&l=Chicago&start=240\n",
      "http://www.indeed.com/jobs?q=data+scientist&l=Chicago&start=250\n",
      "http://www.indeed.com/jobs?q=data+scientist&l=Chicago&start=260\n",
      "http://www.indeed.com/jobs?q=data+scientist&l=Chicago&start=270\n",
      "http://www.indeed.com/jobs?q=data+scientist&l=Chicago&start=280\n",
      "http://www.indeed.com/jobs?q=data+scientist&l=Chicago&start=290\n",
      "http://www.indeed.com/jobs?q=data+scientist&l=San+Francisco&start=0\n",
      "http://www.indeed.com/jobs?q=data+scientist&l=San+Francisco&start=10\n",
      "http://www.indeed.com/jobs?q=data+scientist&l=San+Francisco&start=20\n",
      "http://www.indeed.com/jobs?q=data+scientist&l=San+Francisco&start=30\n",
      "http://www.indeed.com/jobs?q=data+scientist&l=San+Francisco&start=40\n",
      "http://www.indeed.com/jobs?q=data+scientist&l=San+Francisco&start=50\n",
      "http://www.indeed.com/jobs?q=data+scientist&l=San+Francisco&start=60\n",
      "http://www.indeed.com/jobs?q=data+scientist&l=San+Francisco&start=70\n",
      "http://www.indeed.com/jobs?q=data+scientist&l=San+Francisco&start=80\n",
      "http://www.indeed.com/jobs?q=data+scientist&l=San+Francisco&start=90\n",
      "http://www.indeed.com/jobs?q=data+scientist&l=San+Francisco&start=100\n",
      "http://www.indeed.com/jobs?q=data+scientist&l=San+Francisco&start=110\n",
      "http://www.indeed.com/jobs?q=data+scientist&l=San+Francisco&start=120\n",
      "http://www.indeed.com/jobs?q=data+scientist&l=San+Francisco&start=130\n",
      "http://www.indeed.com/jobs?q=data+scientist&l=San+Francisco&start=140\n",
      "http://www.indeed.com/jobs?q=data+scientist&l=San+Francisco&start=150\n",
      "http://www.indeed.com/jobs?q=data+scientist&l=San+Francisco&start=160\n",
      "http://www.indeed.com/jobs?q=data+scientist&l=San+Francisco&start=170\n",
      "http://www.indeed.com/jobs?q=data+scientist&l=San+Francisco&start=180\n",
      "http://www.indeed.com/jobs?q=data+scientist&l=San+Francisco&start=190\n",
      "http://www.indeed.com/jobs?q=data+scientist&l=San+Francisco&start=200\n",
      "http://www.indeed.com/jobs?q=data+scientist&l=San+Francisco&start=210\n",
      "http://www.indeed.com/jobs?q=data+scientist&l=San+Francisco&start=220\n",
      "http://www.indeed.com/jobs?q=data+scientist&l=San+Francisco&start=230\n",
      "http://www.indeed.com/jobs?q=data+scientist&l=San+Francisco&start=240\n",
      "http://www.indeed.com/jobs?q=data+scientist&l=San+Francisco&start=250\n",
      "http://www.indeed.com/jobs?q=data+scientist&l=San+Francisco&start=260\n",
      "http://www.indeed.com/jobs?q=data+scientist&l=San+Francisco&start=270\n",
      "http://www.indeed.com/jobs?q=data+scientist&l=San+Francisco&start=280\n",
      "http://www.indeed.com/jobs?q=data+scientist&l=San+Francisco&start=290\n",
      "http://www.indeed.com/jobs?q=data+scientist&l=Austin&start=0\n",
      "http://www.indeed.com/jobs?q=data+scientist&l=Austin&start=10\n",
      "http://www.indeed.com/jobs?q=data+scientist&l=Austin&start=20\n",
      "http://www.indeed.com/jobs?q=data+scientist&l=Austin&start=30\n",
      "http://www.indeed.com/jobs?q=data+scientist&l=Austin&start=40\n",
      "http://www.indeed.com/jobs?q=data+scientist&l=Austin&start=50\n",
      "http://www.indeed.com/jobs?q=data+scientist&l=Austin&start=60\n",
      "http://www.indeed.com/jobs?q=data+scientist&l=Austin&start=70\n",
      "http://www.indeed.com/jobs?q=data+scientist&l=Austin&start=80\n",
      "http://www.indeed.com/jobs?q=data+scientist&l=Austin&start=90\n",
      "http://www.indeed.com/jobs?q=data+scientist&l=Austin&start=100\n",
      "http://www.indeed.com/jobs?q=data+scientist&l=Austin&start=110\n",
      "http://www.indeed.com/jobs?q=data+scientist&l=Austin&start=120\n",
      "http://www.indeed.com/jobs?q=data+scientist&l=Austin&start=130\n",
      "http://www.indeed.com/jobs?q=data+scientist&l=Austin&start=140\n",
      "http://www.indeed.com/jobs?q=data+scientist&l=Austin&start=150\n",
      "http://www.indeed.com/jobs?q=data+scientist&l=Austin&start=160\n",
      "http://www.indeed.com/jobs?q=data+scientist&l=Austin&start=170\n",
      "http://www.indeed.com/jobs?q=data+scientist&l=Austin&start=180\n",
      "http://www.indeed.com/jobs?q=data+scientist&l=Austin&start=190\n",
      "http://www.indeed.com/jobs?q=data+scientist&l=Austin&start=200\n",
      "http://www.indeed.com/jobs?q=data+scientist&l=Austin&start=210\n",
      "http://www.indeed.com/jobs?q=data+scientist&l=Austin&start=220\n",
      "http://www.indeed.com/jobs?q=data+scientist&l=Austin&start=230\n",
      "http://www.indeed.com/jobs?q=data+scientist&l=Austin&start=240\n",
      "http://www.indeed.com/jobs?q=data+scientist&l=Austin&start=250\n",
      "http://www.indeed.com/jobs?q=data+scientist&l=Austin&start=260\n",
      "http://www.indeed.com/jobs?q=data+scientist&l=Austin&start=270\n",
      "http://www.indeed.com/jobs?q=data+scientist&l=Austin&start=280\n",
      "http://www.indeed.com/jobs?q=data+scientist&l=Austin&start=290\n",
      "http://www.indeed.com/jobs?q=data+scientist&l=Seattle&start=0\n",
      "http://www.indeed.com/jobs?q=data+scientist&l=Seattle&start=10\n",
      "http://www.indeed.com/jobs?q=data+scientist&l=Seattle&start=20\n",
      "http://www.indeed.com/jobs?q=data+scientist&l=Seattle&start=30\n",
      "http://www.indeed.com/jobs?q=data+scientist&l=Seattle&start=40\n",
      "http://www.indeed.com/jobs?q=data+scientist&l=Seattle&start=50\n",
      "http://www.indeed.com/jobs?q=data+scientist&l=Seattle&start=60\n",
      "http://www.indeed.com/jobs?q=data+scientist&l=Seattle&start=70\n",
      "http://www.indeed.com/jobs?q=data+scientist&l=Seattle&start=80\n",
      "http://www.indeed.com/jobs?q=data+scientist&l=Seattle&start=90\n",
      "http://www.indeed.com/jobs?q=data+scientist&l=Seattle&start=100\n",
      "http://www.indeed.com/jobs?q=data+scientist&l=Seattle&start=110\n",
      "http://www.indeed.com/jobs?q=data+scientist&l=Seattle&start=120\n",
      "http://www.indeed.com/jobs?q=data+scientist&l=Seattle&start=130\n",
      "http://www.indeed.com/jobs?q=data+scientist&l=Seattle&start=140\n",
      "http://www.indeed.com/jobs?q=data+scientist&l=Seattle&start=150\n",
      "http://www.indeed.com/jobs?q=data+scientist&l=Seattle&start=160\n",
      "http://www.indeed.com/jobs?q=data+scientist&l=Seattle&start=170\n",
      "http://www.indeed.com/jobs?q=data+scientist&l=Seattle&start=180\n",
      "http://www.indeed.com/jobs?q=data+scientist&l=Seattle&start=190\n",
      "http://www.indeed.com/jobs?q=data+scientist&l=Seattle&start=200\n",
      "http://www.indeed.com/jobs?q=data+scientist&l=Seattle&start=210\n",
      "http://www.indeed.com/jobs?q=data+scientist&l=Seattle&start=220\n",
      "http://www.indeed.com/jobs?q=data+scientist&l=Seattle&start=230\n",
      "http://www.indeed.com/jobs?q=data+scientist&l=Seattle&start=240\n",
      "http://www.indeed.com/jobs?q=data+scientist&l=Seattle&start=250\n",
      "http://www.indeed.com/jobs?q=data+scientist&l=Seattle&start=260\n",
      "http://www.indeed.com/jobs?q=data+scientist&l=Seattle&start=270\n",
      "http://www.indeed.com/jobs?q=data+scientist&l=Seattle&start=280\n",
      "http://www.indeed.com/jobs?q=data+scientist&l=Seattle&start=290\n",
      "http://www.indeed.com/jobs?q=data+scientist&l=Los+Angeles&start=0\n",
      "http://www.indeed.com/jobs?q=data+scientist&l=Los+Angeles&start=10\n",
      "http://www.indeed.com/jobs?q=data+scientist&l=Los+Angeles&start=20\n",
      "http://www.indeed.com/jobs?q=data+scientist&l=Los+Angeles&start=30\n",
      "http://www.indeed.com/jobs?q=data+scientist&l=Los+Angeles&start=40\n",
      "http://www.indeed.com/jobs?q=data+scientist&l=Los+Angeles&start=50\n",
      "http://www.indeed.com/jobs?q=data+scientist&l=Los+Angeles&start=60\n",
      "http://www.indeed.com/jobs?q=data+scientist&l=Los+Angeles&start=70\n",
      "http://www.indeed.com/jobs?q=data+scientist&l=Los+Angeles&start=80\n",
      "http://www.indeed.com/jobs?q=data+scientist&l=Los+Angeles&start=90\n",
      "http://www.indeed.com/jobs?q=data+scientist&l=Los+Angeles&start=100\n",
      "http://www.indeed.com/jobs?q=data+scientist&l=Los+Angeles&start=110\n",
      "http://www.indeed.com/jobs?q=data+scientist&l=Los+Angeles&start=120\n",
      "http://www.indeed.com/jobs?q=data+scientist&l=Los+Angeles&start=130\n",
      "http://www.indeed.com/jobs?q=data+scientist&l=Los+Angeles&start=140\n",
      "http://www.indeed.com/jobs?q=data+scientist&l=Los+Angeles&start=150\n",
      "http://www.indeed.com/jobs?q=data+scientist&l=Los+Angeles&start=160\n",
      "http://www.indeed.com/jobs?q=data+scientist&l=Los+Angeles&start=170\n",
      "http://www.indeed.com/jobs?q=data+scientist&l=Los+Angeles&start=180\n",
      "http://www.indeed.com/jobs?q=data+scientist&l=Los+Angeles&start=190\n",
      "http://www.indeed.com/jobs?q=data+scientist&l=Los+Angeles&start=200\n",
      "http://www.indeed.com/jobs?q=data+scientist&l=Los+Angeles&start=210\n",
      "http://www.indeed.com/jobs?q=data+scientist&l=Los+Angeles&start=220\n",
      "http://www.indeed.com/jobs?q=data+scientist&l=Los+Angeles&start=230\n",
      "http://www.indeed.com/jobs?q=data+scientist&l=Los+Angeles&start=240\n",
      "http://www.indeed.com/jobs?q=data+scientist&l=Los+Angeles&start=250\n",
      "http://www.indeed.com/jobs?q=data+scientist&l=Los+Angeles&start=260\n",
      "http://www.indeed.com/jobs?q=data+scientist&l=Los+Angeles&start=270\n",
      "http://www.indeed.com/jobs?q=data+scientist&l=Los+Angeles&start=280\n",
      "http://www.indeed.com/jobs?q=data+scientist&l=Los+Angeles&start=290\n",
      "http://www.indeed.com/jobs?q=data+scientist&l=Philadelphia&start=0\n",
      "http://www.indeed.com/jobs?q=data+scientist&l=Philadelphia&start=10\n",
      "http://www.indeed.com/jobs?q=data+scientist&l=Philadelphia&start=20\n",
      "http://www.indeed.com/jobs?q=data+scientist&l=Philadelphia&start=30\n",
      "http://www.indeed.com/jobs?q=data+scientist&l=Philadelphia&start=40\n",
      "http://www.indeed.com/jobs?q=data+scientist&l=Philadelphia&start=50\n",
      "http://www.indeed.com/jobs?q=data+scientist&l=Philadelphia&start=60\n",
      "http://www.indeed.com/jobs?q=data+scientist&l=Philadelphia&start=70\n",
      "http://www.indeed.com/jobs?q=data+scientist&l=Philadelphia&start=80\n",
      "http://www.indeed.com/jobs?q=data+scientist&l=Philadelphia&start=90\n",
      "http://www.indeed.com/jobs?q=data+scientist&l=Philadelphia&start=100\n",
      "http://www.indeed.com/jobs?q=data+scientist&l=Philadelphia&start=110\n",
      "http://www.indeed.com/jobs?q=data+scientist&l=Philadelphia&start=120\n",
      "http://www.indeed.com/jobs?q=data+scientist&l=Philadelphia&start=130\n",
      "http://www.indeed.com/jobs?q=data+scientist&l=Philadelphia&start=140\n",
      "http://www.indeed.com/jobs?q=data+scientist&l=Philadelphia&start=150\n",
      "http://www.indeed.com/jobs?q=data+scientist&l=Philadelphia&start=160\n",
      "http://www.indeed.com/jobs?q=data+scientist&l=Philadelphia&start=170\n",
      "http://www.indeed.com/jobs?q=data+scientist&l=Philadelphia&start=180\n",
      "http://www.indeed.com/jobs?q=data+scientist&l=Philadelphia&start=190\n",
      "http://www.indeed.com/jobs?q=data+scientist&l=Philadelphia&start=200\n",
      "http://www.indeed.com/jobs?q=data+scientist&l=Philadelphia&start=210\n",
      "http://www.indeed.com/jobs?q=data+scientist&l=Philadelphia&start=220\n",
      "http://www.indeed.com/jobs?q=data+scientist&l=Philadelphia&start=230\n",
      "http://www.indeed.com/jobs?q=data+scientist&l=Philadelphia&start=240\n",
      "http://www.indeed.com/jobs?q=data+scientist&l=Philadelphia&start=250\n",
      "http://www.indeed.com/jobs?q=data+scientist&l=Philadelphia&start=260\n",
      "http://www.indeed.com/jobs?q=data+scientist&l=Philadelphia&start=270\n",
      "http://www.indeed.com/jobs?q=data+scientist&l=Philadelphia&start=280\n",
      "http://www.indeed.com/jobs?q=data+scientist&l=Philadelphia&start=290\n",
      "http://www.indeed.com/jobs?q=data+scientist&l=Atlanta&start=0\n",
      "http://www.indeed.com/jobs?q=data+scientist&l=Atlanta&start=10\n",
      "http://www.indeed.com/jobs?q=data+scientist&l=Atlanta&start=20\n",
      "http://www.indeed.com/jobs?q=data+scientist&l=Atlanta&start=30\n",
      "http://www.indeed.com/jobs?q=data+scientist&l=Atlanta&start=40\n",
      "http://www.indeed.com/jobs?q=data+scientist&l=Atlanta&start=50\n",
      "http://www.indeed.com/jobs?q=data+scientist&l=Atlanta&start=60\n",
      "http://www.indeed.com/jobs?q=data+scientist&l=Atlanta&start=70\n",
      "http://www.indeed.com/jobs?q=data+scientist&l=Atlanta&start=80\n",
      "http://www.indeed.com/jobs?q=data+scientist&l=Atlanta&start=90\n",
      "http://www.indeed.com/jobs?q=data+scientist&l=Atlanta&start=100\n",
      "http://www.indeed.com/jobs?q=data+scientist&l=Atlanta&start=110\n",
      "http://www.indeed.com/jobs?q=data+scientist&l=Atlanta&start=120\n",
      "http://www.indeed.com/jobs?q=data+scientist&l=Atlanta&start=130\n",
      "http://www.indeed.com/jobs?q=data+scientist&l=Atlanta&start=140\n",
      "http://www.indeed.com/jobs?q=data+scientist&l=Atlanta&start=150\n",
      "http://www.indeed.com/jobs?q=data+scientist&l=Atlanta&start=160\n",
      "http://www.indeed.com/jobs?q=data+scientist&l=Atlanta&start=170\n",
      "http://www.indeed.com/jobs?q=data+scientist&l=Atlanta&start=180\n",
      "http://www.indeed.com/jobs?q=data+scientist&l=Atlanta&start=190\n",
      "http://www.indeed.com/jobs?q=data+scientist&l=Atlanta&start=200\n",
      "http://www.indeed.com/jobs?q=data+scientist&l=Atlanta&start=210\n",
      "http://www.indeed.com/jobs?q=data+scientist&l=Atlanta&start=220\n",
      "http://www.indeed.com/jobs?q=data+scientist&l=Atlanta&start=230\n",
      "http://www.indeed.com/jobs?q=data+scientist&l=Atlanta&start=240\n",
      "http://www.indeed.com/jobs?q=data+scientist&l=Atlanta&start=250\n",
      "http://www.indeed.com/jobs?q=data+scientist&l=Atlanta&start=260\n",
      "http://www.indeed.com/jobs?q=data+scientist&l=Atlanta&start=270\n",
      "http://www.indeed.com/jobs?q=data+scientist&l=Atlanta&start=280\n",
      "http://www.indeed.com/jobs?q=data+scientist&l=Atlanta&start=290\n",
      "http://www.indeed.com/jobs?q=data+scientist&l=Dallas&start=0\n",
      "http://www.indeed.com/jobs?q=data+scientist&l=Dallas&start=10\n",
      "http://www.indeed.com/jobs?q=data+scientist&l=Dallas&start=20\n",
      "http://www.indeed.com/jobs?q=data+scientist&l=Dallas&start=30\n",
      "http://www.indeed.com/jobs?q=data+scientist&l=Dallas&start=40\n",
      "http://www.indeed.com/jobs?q=data+scientist&l=Dallas&start=50\n",
      "http://www.indeed.com/jobs?q=data+scientist&l=Dallas&start=60\n",
      "http://www.indeed.com/jobs?q=data+scientist&l=Dallas&start=70\n",
      "http://www.indeed.com/jobs?q=data+scientist&l=Dallas&start=80\n",
      "http://www.indeed.com/jobs?q=data+scientist&l=Dallas&start=90\n",
      "http://www.indeed.com/jobs?q=data+scientist&l=Dallas&start=100\n",
      "http://www.indeed.com/jobs?q=data+scientist&l=Dallas&start=110\n",
      "http://www.indeed.com/jobs?q=data+scientist&l=Dallas&start=120\n",
      "http://www.indeed.com/jobs?q=data+scientist&l=Dallas&start=130\n",
      "http://www.indeed.com/jobs?q=data+scientist&l=Dallas&start=140\n",
      "http://www.indeed.com/jobs?q=data+scientist&l=Dallas&start=150\n",
      "http://www.indeed.com/jobs?q=data+scientist&l=Dallas&start=160\n",
      "http://www.indeed.com/jobs?q=data+scientist&l=Dallas&start=170\n",
      "http://www.indeed.com/jobs?q=data+scientist&l=Dallas&start=180\n",
      "http://www.indeed.com/jobs?q=data+scientist&l=Dallas&start=190\n",
      "http://www.indeed.com/jobs?q=data+scientist&l=Dallas&start=200\n",
      "http://www.indeed.com/jobs?q=data+scientist&l=Dallas&start=210\n",
      "http://www.indeed.com/jobs?q=data+scientist&l=Dallas&start=220\n",
      "http://www.indeed.com/jobs?q=data+scientist&l=Dallas&start=230\n",
      "http://www.indeed.com/jobs?q=data+scientist&l=Dallas&start=240\n",
      "http://www.indeed.com/jobs?q=data+scientist&l=Dallas&start=250\n",
      "http://www.indeed.com/jobs?q=data+scientist&l=Dallas&start=260\n",
      "http://www.indeed.com/jobs?q=data+scientist&l=Dallas&start=270\n",
      "http://www.indeed.com/jobs?q=data+scientist&l=Dallas&start=280\n",
      "http://www.indeed.com/jobs?q=data+scientist&l=Dallas&start=290\n",
      "http://www.indeed.com/jobs?q=data+scientist&l=Pittsburgh&start=0\n",
      "http://www.indeed.com/jobs?q=data+scientist&l=Pittsburgh&start=10\n",
      "http://www.indeed.com/jobs?q=data+scientist&l=Pittsburgh&start=20\n",
      "http://www.indeed.com/jobs?q=data+scientist&l=Pittsburgh&start=30\n",
      "http://www.indeed.com/jobs?q=data+scientist&l=Pittsburgh&start=40\n",
      "http://www.indeed.com/jobs?q=data+scientist&l=Pittsburgh&start=50\n",
      "http://www.indeed.com/jobs?q=data+scientist&l=Pittsburgh&start=60\n",
      "http://www.indeed.com/jobs?q=data+scientist&l=Pittsburgh&start=70\n",
      "http://www.indeed.com/jobs?q=data+scientist&l=Pittsburgh&start=80\n",
      "http://www.indeed.com/jobs?q=data+scientist&l=Pittsburgh&start=90\n",
      "http://www.indeed.com/jobs?q=data+scientist&l=Pittsburgh&start=100\n",
      "http://www.indeed.com/jobs?q=data+scientist&l=Pittsburgh&start=110\n",
      "http://www.indeed.com/jobs?q=data+scientist&l=Pittsburgh&start=120\n",
      "http://www.indeed.com/jobs?q=data+scientist&l=Pittsburgh&start=130\n",
      "http://www.indeed.com/jobs?q=data+scientist&l=Pittsburgh&start=140\n",
      "http://www.indeed.com/jobs?q=data+scientist&l=Pittsburgh&start=150\n",
      "http://www.indeed.com/jobs?q=data+scientist&l=Pittsburgh&start=160\n",
      "http://www.indeed.com/jobs?q=data+scientist&l=Pittsburgh&start=170\n",
      "http://www.indeed.com/jobs?q=data+scientist&l=Pittsburgh&start=180\n",
      "http://www.indeed.com/jobs?q=data+scientist&l=Pittsburgh&start=190\n",
      "http://www.indeed.com/jobs?q=data+scientist&l=Pittsburgh&start=200\n",
      "http://www.indeed.com/jobs?q=data+scientist&l=Pittsburgh&start=210\n",
      "http://www.indeed.com/jobs?q=data+scientist&l=Pittsburgh&start=220\n",
      "http://www.indeed.com/jobs?q=data+scientist&l=Pittsburgh&start=230\n",
      "http://www.indeed.com/jobs?q=data+scientist&l=Pittsburgh&start=240\n",
      "http://www.indeed.com/jobs?q=data+scientist&l=Pittsburgh&start=250\n",
      "http://www.indeed.com/jobs?q=data+scientist&l=Pittsburgh&start=260\n",
      "http://www.indeed.com/jobs?q=data+scientist&l=Pittsburgh&start=270\n",
      "http://www.indeed.com/jobs?q=data+scientist&l=Pittsburgh&start=280\n",
      "http://www.indeed.com/jobs?q=data+scientist&l=Pittsburgh&start=290\n",
      "http://www.indeed.com/jobs?q=data+scientist&l=Portland&start=0\n",
      "http://www.indeed.com/jobs?q=data+scientist&l=Portland&start=10\n",
      "http://www.indeed.com/jobs?q=data+scientist&l=Portland&start=20\n",
      "http://www.indeed.com/jobs?q=data+scientist&l=Portland&start=30\n",
      "http://www.indeed.com/jobs?q=data+scientist&l=Portland&start=40\n",
      "http://www.indeed.com/jobs?q=data+scientist&l=Portland&start=50\n",
      "http://www.indeed.com/jobs?q=data+scientist&l=Portland&start=60\n",
      "http://www.indeed.com/jobs?q=data+scientist&l=Portland&start=70\n",
      "http://www.indeed.com/jobs?q=data+scientist&l=Portland&start=80\n",
      "http://www.indeed.com/jobs?q=data+scientist&l=Portland&start=90\n",
      "http://www.indeed.com/jobs?q=data+scientist&l=Portland&start=100\n",
      "http://www.indeed.com/jobs?q=data+scientist&l=Portland&start=110\n",
      "http://www.indeed.com/jobs?q=data+scientist&l=Portland&start=120\n",
      "http://www.indeed.com/jobs?q=data+scientist&l=Portland&start=130\n",
      "http://www.indeed.com/jobs?q=data+scientist&l=Portland&start=140\n",
      "http://www.indeed.com/jobs?q=data+scientist&l=Portland&start=150\n",
      "http://www.indeed.com/jobs?q=data+scientist&l=Portland&start=160\n",
      "http://www.indeed.com/jobs?q=data+scientist&l=Portland&start=170\n",
      "http://www.indeed.com/jobs?q=data+scientist&l=Portland&start=180\n",
      "http://www.indeed.com/jobs?q=data+scientist&l=Portland&start=190\n",
      "http://www.indeed.com/jobs?q=data+scientist&l=Portland&start=200\n",
      "http://www.indeed.com/jobs?q=data+scientist&l=Portland&start=210\n",
      "http://www.indeed.com/jobs?q=data+scientist&l=Portland&start=220\n",
      "http://www.indeed.com/jobs?q=data+scientist&l=Portland&start=230\n",
      "http://www.indeed.com/jobs?q=data+scientist&l=Portland&start=240\n",
      "http://www.indeed.com/jobs?q=data+scientist&l=Portland&start=250\n",
      "http://www.indeed.com/jobs?q=data+scientist&l=Portland&start=260\n",
      "http://www.indeed.com/jobs?q=data+scientist&l=Portland&start=270\n",
      "http://www.indeed.com/jobs?q=data+scientist&l=Portland&start=280\n",
      "http://www.indeed.com/jobs?q=data+scientist&l=Portland&start=290\n",
      "http://www.indeed.com/jobs?q=data+scientist&l=Phoenix&start=0\n",
      "http://www.indeed.com/jobs?q=data+scientist&l=Phoenix&start=10\n",
      "http://www.indeed.com/jobs?q=data+scientist&l=Phoenix&start=20\n",
      "http://www.indeed.com/jobs?q=data+scientist&l=Phoenix&start=30\n",
      "http://www.indeed.com/jobs?q=data+scientist&l=Phoenix&start=40\n",
      "http://www.indeed.com/jobs?q=data+scientist&l=Phoenix&start=50\n",
      "http://www.indeed.com/jobs?q=data+scientist&l=Phoenix&start=60\n",
      "http://www.indeed.com/jobs?q=data+scientist&l=Phoenix&start=70\n",
      "http://www.indeed.com/jobs?q=data+scientist&l=Phoenix&start=80\n",
      "http://www.indeed.com/jobs?q=data+scientist&l=Phoenix&start=90\n",
      "http://www.indeed.com/jobs?q=data+scientist&l=Phoenix&start=100\n",
      "http://www.indeed.com/jobs?q=data+scientist&l=Phoenix&start=110\n",
      "http://www.indeed.com/jobs?q=data+scientist&l=Phoenix&start=120\n",
      "http://www.indeed.com/jobs?q=data+scientist&l=Phoenix&start=130\n",
      "http://www.indeed.com/jobs?q=data+scientist&l=Phoenix&start=140\n",
      "http://www.indeed.com/jobs?q=data+scientist&l=Phoenix&start=150\n",
      "http://www.indeed.com/jobs?q=data+scientist&l=Phoenix&start=160\n",
      "http://www.indeed.com/jobs?q=data+scientist&l=Phoenix&start=170\n",
      "http://www.indeed.com/jobs?q=data+scientist&l=Phoenix&start=180\n",
      "http://www.indeed.com/jobs?q=data+scientist&l=Phoenix&start=190\n",
      "http://www.indeed.com/jobs?q=data+scientist&l=Phoenix&start=200\n",
      "http://www.indeed.com/jobs?q=data+scientist&l=Phoenix&start=210\n",
      "http://www.indeed.com/jobs?q=data+scientist&l=Phoenix&start=220\n",
      "http://www.indeed.com/jobs?q=data+scientist&l=Phoenix&start=230\n",
      "http://www.indeed.com/jobs?q=data+scientist&l=Phoenix&start=240\n",
      "http://www.indeed.com/jobs?q=data+scientist&l=Phoenix&start=250\n",
      "http://www.indeed.com/jobs?q=data+scientist&l=Phoenix&start=260\n",
      "http://www.indeed.com/jobs?q=data+scientist&l=Phoenix&start=270\n",
      "http://www.indeed.com/jobs?q=data+scientist&l=Phoenix&start=280\n",
      "http://www.indeed.com/jobs?q=data+scientist&l=Phoenix&start=290\n",
      "http://www.indeed.com/jobs?q=data+scientist&l=Denver&start=0\n",
      "http://www.indeed.com/jobs?q=data+scientist&l=Denver&start=10\n",
      "http://www.indeed.com/jobs?q=data+scientist&l=Denver&start=20\n",
      "http://www.indeed.com/jobs?q=data+scientist&l=Denver&start=30\n",
      "http://www.indeed.com/jobs?q=data+scientist&l=Denver&start=40\n",
      "http://www.indeed.com/jobs?q=data+scientist&l=Denver&start=50\n",
      "http://www.indeed.com/jobs?q=data+scientist&l=Denver&start=60\n",
      "http://www.indeed.com/jobs?q=data+scientist&l=Denver&start=70\n",
      "http://www.indeed.com/jobs?q=data+scientist&l=Denver&start=80\n",
      "http://www.indeed.com/jobs?q=data+scientist&l=Denver&start=90\n",
      "http://www.indeed.com/jobs?q=data+scientist&l=Denver&start=100\n",
      "http://www.indeed.com/jobs?q=data+scientist&l=Denver&start=110\n",
      "http://www.indeed.com/jobs?q=data+scientist&l=Denver&start=120\n",
      "http://www.indeed.com/jobs?q=data+scientist&l=Denver&start=130\n",
      "http://www.indeed.com/jobs?q=data+scientist&l=Denver&start=140\n",
      "http://www.indeed.com/jobs?q=data+scientist&l=Denver&start=150\n",
      "http://www.indeed.com/jobs?q=data+scientist&l=Denver&start=160\n",
      "http://www.indeed.com/jobs?q=data+scientist&l=Denver&start=170\n",
      "http://www.indeed.com/jobs?q=data+scientist&l=Denver&start=180\n",
      "http://www.indeed.com/jobs?q=data+scientist&l=Denver&start=190\n",
      "http://www.indeed.com/jobs?q=data+scientist&l=Denver&start=200\n",
      "http://www.indeed.com/jobs?q=data+scientist&l=Denver&start=210\n",
      "http://www.indeed.com/jobs?q=data+scientist&l=Denver&start=220\n",
      "http://www.indeed.com/jobs?q=data+scientist&l=Denver&start=230\n",
      "http://www.indeed.com/jobs?q=data+scientist&l=Denver&start=240\n",
      "http://www.indeed.com/jobs?q=data+scientist&l=Denver&start=250\n",
      "http://www.indeed.com/jobs?q=data+scientist&l=Denver&start=260\n",
      "http://www.indeed.com/jobs?q=data+scientist&l=Denver&start=270\n",
      "http://www.indeed.com/jobs?q=data+scientist&l=Denver&start=280\n",
      "http://www.indeed.com/jobs?q=data+scientist&l=Denver&start=290\n",
      "http://www.indeed.com/jobs?q=data+scientist&l=Houston&start=0\n",
      "http://www.indeed.com/jobs?q=data+scientist&l=Houston&start=10\n",
      "http://www.indeed.com/jobs?q=data+scientist&l=Houston&start=20\n",
      "http://www.indeed.com/jobs?q=data+scientist&l=Houston&start=30\n",
      "http://www.indeed.com/jobs?q=data+scientist&l=Houston&start=40\n",
      "http://www.indeed.com/jobs?q=data+scientist&l=Houston&start=50\n",
      "http://www.indeed.com/jobs?q=data+scientist&l=Houston&start=60\n",
      "http://www.indeed.com/jobs?q=data+scientist&l=Houston&start=70\n",
      "http://www.indeed.com/jobs?q=data+scientist&l=Houston&start=80\n",
      "http://www.indeed.com/jobs?q=data+scientist&l=Houston&start=90\n",
      "http://www.indeed.com/jobs?q=data+scientist&l=Houston&start=100\n",
      "http://www.indeed.com/jobs?q=data+scientist&l=Houston&start=110\n",
      "http://www.indeed.com/jobs?q=data+scientist&l=Houston&start=120\n",
      "http://www.indeed.com/jobs?q=data+scientist&l=Houston&start=130\n",
      "http://www.indeed.com/jobs?q=data+scientist&l=Houston&start=140\n",
      "http://www.indeed.com/jobs?q=data+scientist&l=Houston&start=150\n",
      "http://www.indeed.com/jobs?q=data+scientist&l=Houston&start=160\n",
      "http://www.indeed.com/jobs?q=data+scientist&l=Houston&start=170\n",
      "http://www.indeed.com/jobs?q=data+scientist&l=Houston&start=180\n",
      "http://www.indeed.com/jobs?q=data+scientist&l=Houston&start=190\n",
      "http://www.indeed.com/jobs?q=data+scientist&l=Houston&start=200\n",
      "http://www.indeed.com/jobs?q=data+scientist&l=Houston&start=210\n",
      "http://www.indeed.com/jobs?q=data+scientist&l=Houston&start=220\n",
      "http://www.indeed.com/jobs?q=data+scientist&l=Houston&start=230\n",
      "http://www.indeed.com/jobs?q=data+scientist&l=Houston&start=240\n",
      "http://www.indeed.com/jobs?q=data+scientist&l=Houston&start=250\n",
      "http://www.indeed.com/jobs?q=data+scientist&l=Houston&start=260\n",
      "http://www.indeed.com/jobs?q=data+scientist&l=Houston&start=270\n",
      "http://www.indeed.com/jobs?q=data+scientist&l=Houston&start=280\n",
      "http://www.indeed.com/jobs?q=data+scientist&l=Houston&start=290\n",
      "http://www.indeed.com/jobs?q=data+scientist&l=Miami&start=0\n",
      "http://www.indeed.com/jobs?q=data+scientist&l=Miami&start=10\n",
      "http://www.indeed.com/jobs?q=data+scientist&l=Miami&start=20\n",
      "http://www.indeed.com/jobs?q=data+scientist&l=Miami&start=30\n",
      "http://www.indeed.com/jobs?q=data+scientist&l=Miami&start=40\n",
      "http://www.indeed.com/jobs?q=data+scientist&l=Miami&start=50\n",
      "http://www.indeed.com/jobs?q=data+scientist&l=Miami&start=60\n",
      "http://www.indeed.com/jobs?q=data+scientist&l=Miami&start=70\n",
      "http://www.indeed.com/jobs?q=data+scientist&l=Miami&start=80\n",
      "http://www.indeed.com/jobs?q=data+scientist&l=Miami&start=90\n",
      "http://www.indeed.com/jobs?q=data+scientist&l=Miami&start=100\n",
      "http://www.indeed.com/jobs?q=data+scientist&l=Miami&start=110\n",
      "http://www.indeed.com/jobs?q=data+scientist&l=Miami&start=120\n",
      "http://www.indeed.com/jobs?q=data+scientist&l=Miami&start=130\n",
      "http://www.indeed.com/jobs?q=data+scientist&l=Miami&start=140\n",
      "http://www.indeed.com/jobs?q=data+scientist&l=Miami&start=150\n",
      "http://www.indeed.com/jobs?q=data+scientist&l=Miami&start=160\n",
      "http://www.indeed.com/jobs?q=data+scientist&l=Miami&start=170\n",
      "http://www.indeed.com/jobs?q=data+scientist&l=Miami&start=180\n",
      "http://www.indeed.com/jobs?q=data+scientist&l=Miami&start=190\n",
      "http://www.indeed.com/jobs?q=data+scientist&l=Miami&start=200\n",
      "http://www.indeed.com/jobs?q=data+scientist&l=Miami&start=210\n",
      "http://www.indeed.com/jobs?q=data+scientist&l=Miami&start=220\n",
      "http://www.indeed.com/jobs?q=data+scientist&l=Miami&start=230\n",
      "http://www.indeed.com/jobs?q=data+scientist&l=Miami&start=240\n",
      "http://www.indeed.com/jobs?q=data+scientist&l=Miami&start=250\n",
      "http://www.indeed.com/jobs?q=data+scientist&l=Miami&start=260\n",
      "http://www.indeed.com/jobs?q=data+scientist&l=Miami&start=270\n",
      "http://www.indeed.com/jobs?q=data+scientist&l=Miami&start=280\n",
      "http://www.indeed.com/jobs?q=data+scientist&l=Miami&start=290\n",
      "http://www.indeed.com/jobs?q=data+scientist&l=San+Diego&start=0\n",
      "http://www.indeed.com/jobs?q=data+scientist&l=San+Diego&start=10\n",
      "http://www.indeed.com/jobs?q=data+scientist&l=San+Diego&start=20\n",
      "http://www.indeed.com/jobs?q=data+scientist&l=San+Diego&start=30\n",
      "http://www.indeed.com/jobs?q=data+scientist&l=San+Diego&start=40\n",
      "http://www.indeed.com/jobs?q=data+scientist&l=San+Diego&start=50\n",
      "http://www.indeed.com/jobs?q=data+scientist&l=San+Diego&start=60\n",
      "http://www.indeed.com/jobs?q=data+scientist&l=San+Diego&start=70\n",
      "http://www.indeed.com/jobs?q=data+scientist&l=San+Diego&start=80\n",
      "http://www.indeed.com/jobs?q=data+scientist&l=San+Diego&start=90\n",
      "http://www.indeed.com/jobs?q=data+scientist&l=San+Diego&start=100\n",
      "http://www.indeed.com/jobs?q=data+scientist&l=San+Diego&start=110\n",
      "http://www.indeed.com/jobs?q=data+scientist&l=San+Diego&start=120\n",
      "http://www.indeed.com/jobs?q=data+scientist&l=San+Diego&start=130\n",
      "http://www.indeed.com/jobs?q=data+scientist&l=San+Diego&start=140\n",
      "http://www.indeed.com/jobs?q=data+scientist&l=San+Diego&start=150\n",
      "http://www.indeed.com/jobs?q=data+scientist&l=San+Diego&start=160\n",
      "http://www.indeed.com/jobs?q=data+scientist&l=San+Diego&start=170\n",
      "http://www.indeed.com/jobs?q=data+scientist&l=San+Diego&start=180\n",
      "http://www.indeed.com/jobs?q=data+scientist&l=San+Diego&start=190\n",
      "http://www.indeed.com/jobs?q=data+scientist&l=San+Diego&start=200\n",
      "http://www.indeed.com/jobs?q=data+scientist&l=San+Diego&start=210\n",
      "http://www.indeed.com/jobs?q=data+scientist&l=San+Diego&start=220\n",
      "http://www.indeed.com/jobs?q=data+scientist&l=San+Diego&start=230\n",
      "http://www.indeed.com/jobs?q=data+scientist&l=San+Diego&start=240\n",
      "http://www.indeed.com/jobs?q=data+scientist&l=San+Diego&start=250\n",
      "http://www.indeed.com/jobs?q=data+scientist&l=San+Diego&start=260\n",
      "http://www.indeed.com/jobs?q=data+scientist&l=San+Diego&start=270\n",
      "http://www.indeed.com/jobs?q=data+scientist&l=San+Diego&start=280\n",
      "http://www.indeed.com/jobs?q=data+scientist&l=San+Diego&start=290\n"
     ]
    }
   ],
   "source": [
    "# Scale up results for multiple countries and pages\n",
    "\n",
    "# Parse all websites to scrape information\n",
    "\n",
    "max_results_per_city = 300 # This number indicates the number of results per city.\n",
    "url_template = \"http://www.indeed.com/jobs?q=data+scientist&l={}&start={}\"\n",
    "cities = ['New+York', 'Chicago', 'San+Francisco', 'Austin', 'Seattle', # Cities to scrape\n",
    "    'Los+Angeles', 'Philadelphia', 'Atlanta', 'Dallas', 'Pittsburgh', \n",
    "    'Portland', 'Phoenix', 'Denver', 'Houston', 'Miami', 'San+Diego']\n",
    "\n",
    "processed = [] # empty list to append results\n",
    "\n",
    "for city in cities:\n",
    "    for start in range(0, max_results_per_city, 10):\n",
    "        response = requests.get(url_template.format(city, start)) # Get URL from template using city and page\n",
    "        print(url_template.format(city, start))\n",
    "        page = response.text\n",
    "        soup = BeautifulSoup(page)\n",
    "        result_list = soup.findAll(\"div\", class_=\" row result\")\n",
    "\n",
    "    \n",
    "        for res in result_list[:]:\n",
    "                loc_city = city\n",
    "                loc_exact = extract_location_from_result(res)\n",
    "                job = extract_job_title_from_result(res)\n",
    "                comp = extract_company_from_result(res)\n",
    "                sal = extract_salary_from_result(res)\n",
    "                summary = extract_summary_from_result(res)\n",
    "                processed.append([loc_city, loc_exact, job, comp, summary, sal])"
   ]
  },
  {
   "cell_type": "code",
   "execution_count": 33,
   "metadata": {
    "collapsed": false,
    "scrolled": true
   },
   "outputs": [
    {
     "data": {
      "text/plain": [
       "3660"
      ]
     },
     "execution_count": 33,
     "metadata": {},
     "output_type": "execute_result"
    }
   ],
   "source": [
    "# Create dataframe\n",
    "\n",
    "df = pd.DataFrame(processed, columns=[\"City\", \"Location\", \"Job\", \"Company\", \"Summary\", \"Salary\"])\n",
    "len(df)"
   ]
  },
  {
   "cell_type": "markdown",
   "metadata": {},
   "source": [
    "### Data cleaning"
   ]
  },
  {
   "cell_type": "code",
   "execution_count": 34,
   "metadata": {
    "collapsed": false
   },
   "outputs": [
    {
     "name": "stdout",
     "output_type": "stream",
     "text": [
      "3660\n"
     ]
    }
   ],
   "source": [
    "# Dropping rows where data was unavailable\n",
    "\n",
    "df = df.dropna(how = 'all')\n",
    "print(len(df))"
   ]
  },
  {
   "cell_type": "code",
   "execution_count": 35,
   "metadata": {
    "collapsed": false
   },
   "outputs": [
    {
     "data": {
      "text/plain": [
       "2867"
      ]
     },
     "execution_count": 35,
     "metadata": {},
     "output_type": "execute_result"
    }
   ],
   "source": [
    "# Many job entries on Indeed are duplicate job descriptions with companies posting the listing numerous times\n",
    "# Drop duplicate rows, keeping the first occurence\n",
    "\n",
    "df = df.drop_duplicates(keep = 'first')\n",
    "len(df)"
   ]
  },
  {
   "cell_type": "code",
   "execution_count": 36,
   "metadata": {
    "collapsed": false
   },
   "outputs": [
    {
     "name": "stdout",
     "output_type": "stream",
     "text": [
      "143\n"
     ]
    }
   ],
   "source": [
    "# Return rows from data frame where the salary column contains salary based on year, month, week\n",
    "\n",
    "df = df.loc[df['Salary'].str.contains(\"year\") | df['Salary'].str.contains(\"month\") | df['Salary'].str.contains(\"week\")]\n",
    "print(len(df)) # As can be seen, the majority of listings do not have salary information"
   ]
  },
  {
   "cell_type": "code",
   "execution_count": 37,
   "metadata": {
    "collapsed": false
   },
   "outputs": [],
   "source": [
    "# Function that takes a salary string and converts it to a number, averaging a salary range if necessary\n",
    "\n",
    "def convert_salary(salary):\n",
    "    salary = salary.replace('$', '')\n",
    "    salary = salary.replace(',', '')\n",
    "    salary = salary.replace('−', ' ')\n",
    "    \n",
    "    if salary.find('year') > -1:\n",
    "        get_digits = [int(s) for s in salary.split() if s.isdigit()]\n",
    "        return np.mean(get_digits)\n",
    "    \n",
    "    elif salary.find('month') > -1 :\n",
    "        get_digits = [int(s) for s in salary.split() if s.isdigit()]\n",
    "        return (np.mean(get_digits))*12\n",
    "    \n",
    "    elif salary.find('week') > -1 :\n",
    "        get_digits = [int(s) for s in salary.split() if s.isdigit()]\n",
    "        return (np.mean(get_digits))*52\n",
    "    \n",
    "# Apply function to salary column\n",
    "df['Salary'] = df['Salary'].apply(convert_salary)"
   ]
  },
  {
   "cell_type": "code",
   "execution_count": 38,
   "metadata": {
    "collapsed": false
   },
   "outputs": [],
   "source": [
    "# Remove '+' from City string\n",
    "\n",
    "df['City'] = df['City'].str.replace('+', ' ')"
   ]
  },
  {
   "cell_type": "code",
   "execution_count": 39,
   "metadata": {
    "collapsed": true
   },
   "outputs": [],
   "source": [
    "# Extract job titles from job desciption, creating new columns, 1 when word is found in title, 0 if not \n",
    "\n",
    "df['Job'] = df['Job'].apply(lambda x: x.lower()) # Convert job title to lowercase\n",
    "\n",
    "df['title_stat'] = df['Job'].str.contains('stat').astype(float)\n",
    "df['title_senior'] = df['Job'].str.contains('senior').astype(float) \n",
    "df['title_research'] = df['Job'].str.contains('research').astype(float)\n",
    "df['title_engineer'] = df['Job'].str.contains('engineer').astype(float)\n",
    "df['title_analyst'] = df['Job'].str.contains('analyst').astype(float)\n",
    "df['title_director'] = df['Job'].str.contains('director').astype(float)\n",
    "df['title_manager'] = df['Job'].str.contains('manager').astype(float)"
   ]
  },
  {
   "cell_type": "code",
   "execution_count": 40,
   "metadata": {
    "collapsed": true
   },
   "outputs": [],
   "source": [
    "# We want to predict a binary variable - whether the salary was low or high. High salary corresponds to a \n",
    "# salary above the median, and low below\n",
    "\n",
    "# Function that return a 1 if salary is 'high', and 0 if 'low'\n",
    "def high_low (salary):\n",
    "    if salary >= np.median(df['Salary']):\n",
    "        return 1\n",
    "    else:\n",
    "        return 0\n",
    "    \n",
    "# Apply function to salary column\n",
    "df['Salary_bracket'] = df['Salary'].apply(high_low)"
   ]
  },
  {
   "cell_type": "code",
   "execution_count": 41,
   "metadata": {
    "collapsed": true
   },
   "outputs": [],
   "source": [
    "# Turn City column into categorical\n",
    "df = pd.get_dummies(df, columns = ['City'])"
   ]
  },
  {
   "cell_type": "markdown",
   "metadata": {},
   "source": [
    "### Modelling"
   ]
  },
  {
   "cell_type": "code",
   "execution_count": 42,
   "metadata": {
    "collapsed": true
   },
   "outputs": [],
   "source": [
    "# Define target and feature set for modelling\n",
    "\n",
    "X = df.drop(['Location', 'Job', 'Company', 'Summary', 'Salary', 'Salary_bracket'], axis = 1)\n",
    "y = df['Salary_bracket']"
   ]
  },
  {
   "cell_type": "code",
   "execution_count": 43,
   "metadata": {
    "collapsed": false
   },
   "outputs": [
    {
     "name": "stdout",
     "output_type": "stream",
     "text": [
      "accuracy 0.335862068966\n",
      "precision 0.361956521739\n",
      "recall 0.387619047619\n"
     ]
    }
   ],
   "source": [
    "# Logistics Regression using cross-validation\n",
    "\n",
    "metrics = ['accuracy', 'precision', 'recall']\n",
    "lr = LogisticRegressionCV(penalty = 'l2', cv = 5) # L2 regularisation using 5-fold cross-validation\n",
    "\n",
    "for metric in metrics:\n",
    "    scores = cross_val_score(lr, X, y, scoring = metric, cv = 5)\n",
    "    print metric, scores.mean()"
   ]
  },
  {
   "cell_type": "markdown",
   "metadata": {
    "collapsed": true
   },
   "source": [
    "As can be seen by the above accuracy score, the model produced is worse than the baseline or randomly guessing. Precision is the percentage of high salaries predictions that were correctly identified and recall is the percentage of high salaries cases that were correctly identified."
   ]
  },
  {
   "cell_type": "code",
   "execution_count": 45,
   "metadata": {
    "collapsed": false
   },
   "outputs": [
    {
     "data": {
      "image/png": "[encoded data removed]",
      "text/plain": [
       "<matplotlib.figure.Figure at 0x115b95a10>"
      ]
     },
     "metadata": {},
     "output_type": "display_data"
    }
   ],
   "source": [
    "# Feature importance\n",
    "\n",
    "lg = LogisticRegression()\n",
    "model = lg.fit(X, y) # Fit model to look at model coefficients \n",
    "\n",
    "importances = model.coef_ # feature importance\n",
    "indices = np.argsort(np.absolute(importances))# sort importance\n",
    "\n",
    "# Plot the feature importances\n",
    "plt.figure(figsize = (16, 6))\n",
    "plt.title(\"Feature importances\", fontsize = 15)\n",
    "plt.bar(range(X.shape[1]), importances[0][indices][0][::-1], align=\"center\")\n",
    "plt.ylabel('Feature Coefficient')\n",
    "plt.xticks(range(X.shape[1]), X.columns[indices][0][::-1], rotation=90)\n",
    "plt.xlim([-1, X.shape[1]])\n",
    "plt.show()"
   ]
  },
  {
   "cell_type": "code",
   "execution_count": 70,
   "metadata": {
    "collapsed": false
   },
   "outputs": [
    {
     "data": {
      "text/plain": [
       "4.4989062761023311"
      ]
     },
     "execution_count": 70,
     "metadata": {},
     "output_type": "execute_result"
    }
   ],
   "source": [
    "# Odds of high salary based on the job posting from Chicago\n",
    "\n",
    "np.exp(importances[0][indices][0][::-1][0])"
   ]
  },
  {
   "cell_type": "markdown",
   "metadata": {
    "collapsed": true
   },
   "source": [
    "The above charts indicates feature importance as judged by the coefficients in the model. The higher the absolute value of the coefficient, the larger the affect the feature has on salary within the feature groupings. For example \n",
    "a job listing from Chicago is 4.5 times more likely to have a high salary."
   ]
  },
  {
   "cell_type": "markdown",
   "metadata": {
    "collapsed": true
   },
   "source": [
    "The above model used L2 regularisation with a number of regularisation parameters that control the strength of the regularisation. The regularisation parameter is chosen such that it optimises the accuracy of the model. Regularisation helps models from overfitting, by adding an l1 of l2 norm multiple to the loss function.\n",
    "\n",
    "For L2 regularisation the penalty is the sum of the squares of the coefficients and for the L1, it's the sum of the absolute values of the coefficients. L2 regression can't zero coefficients, you either select all the coefficients or none of them. L1 does both parameter shrinkage and variable selection automatically because it zeros out the coefficients of collinear variables."
   ]
  },
  {
   "cell_type": "code",
   "execution_count": 58,
   "metadata": {
    "collapsed": false
   },
   "outputs": [
    {
     "name": "stdout",
     "output_type": "stream",
     "text": [
      "accuracy 0.33302134647\n",
      "precision 0.358683473389\n",
      "recall 0.38380952381\n"
     ]
    }
   ],
   "source": [
    "# L1 regularisation\n",
    "\n",
    "metrics = ['accuracy', 'precision', 'recall']\n",
    "lr = LogisticRegressionCV(penalty = 'l1', cv = 5, solver = 'liblinear')\n",
    "\n",
    "for metric in metrics:\n",
    "    scores = cross_val_score(lr, X, y, scoring = metric, cv = 5)\n",
    "    print metric, scores.mean()\n"
   ]
  },
  {
   "cell_type": "markdown",
   "metadata": {
    "collapsed": true
   },
   "source": [
    "As can be seen by the above metrics the model has not improved using L2 regularisation"
   ]
  },
  {
   "cell_type": "markdown",
   "metadata": {},
   "source": [
    "#### Modelling using job summary corpus"
   ]
  },
  {
   "cell_type": "code",
   "execution_count": 71,
   "metadata": {
    "collapsed": true
   },
   "outputs": [],
   "source": [
    "# Countvectorize summary, taking out common words with a maximum word length 2\n",
    "\n",
    "cv = CountVectorizer(stop_words = 'english', max_features = 100, ngram_range = (1, 2))\n",
    "summary_features = cv.fit_transform(df['Summary'])"
   ]
  },
  {
   "cell_type": "code",
   "execution_count": 72,
   "metadata": {
    "collapsed": false
   },
   "outputs": [
    {
     "name": "stdout",
     "output_type": "stream",
     "text": [
      "accuracy 0.693661740558\n",
      "precision 0.76735042735\n",
      "recall 0.611428571429\n"
     ]
    }
   ],
   "source": [
    "sc = StandardScaler()\n",
    "X_scaled = sc.fit_transform(summary_features.toarray())\n",
    "lr = LogisticRegressionCV(penalty = 'l2', cv = 5, Cs = 20)\n",
    "\n",
    "for metric in metrics:\n",
    "    scores = cross_val_score(lr, X_scaled, y, scoring = metric, cv = 5)\n",
    "    print metric, scores.mean()"
   ]
  },
  {
   "cell_type": "markdown",
   "metadata": {
    "collapsed": true
   },
   "source": [
    "By using the words as features from the job summary the model has significantly improved."
   ]
  },
  {
   "cell_type": "code",
   "execution_count": 74,
   "metadata": {
    "collapsed": false
   },
   "outputs": [
    {
     "name": "stdout",
     "output_type": "stream",
     "text": [
      "        Coef         Features\n",
      "11  0.427902         business\n",
      "86  0.308470              sql\n",
      "89  0.282905          subject\n",
      "39  0.276724             join\n",
      "19  0.237174  data scientists\n",
      "--------------------------------\n",
      "        Coef  Features\n",
      "29 -0.268064     field\n",
      "85 -0.282788  software\n",
      "98 -0.289185      work\n",
      "12 -0.299205      care\n",
      "5  -0.337859   analyze\n"
     ]
    }
   ],
   "source": [
    "# Feature importance as judged by model coefficients\n",
    "\n",
    "model = lr.fit(X_scaled, y)\n",
    "\n",
    "importance_df = pd.DataFrame({'Features' : cv.get_feature_names(), 'Coef': model.coef_[0,:]})\n",
    "importance_df.sort_values('Coef', ascending = False, inplace = True)\n",
    "print importance_df.head()\n",
    "print '--------------------------------'\n",
    "print importance_df.tail()"
   ]
  },
  {
   "cell_type": "markdown",
   "metadata": {
    "collapsed": true
   },
   "source": [
    "Job summaries using the words business, SQL and data scientists have a larger liklihood of being a job with a high salary."
   ]
  },
  {
   "cell_type": "code",
   "execution_count": 62,
   "metadata": {
    "collapsed": true
   },
   "outputs": [],
   "source": [
    "# Function for plotting confusion matrix\n",
    "def plot_confusion_matrix(cm, classes, title='Confusion matrix', cmap=plt.cm.Blues):\n",
    "    plt.imshow(cm, interpolation='nearest', cmap=cmap)\n",
    "    plt.title(title)\n",
    "    plt.colorbar()\n",
    "    tick_marks = np.arange(len(classes))\n",
    "    plt.xticks(tick_marks, classes, rotation=45)\n",
    "    plt.yticks(tick_marks, classes)\n",
    "    thresh = cm.max() / 2.\n",
    "    for i, j in itertools.product(range(cm.shape[0]), range(cm.shape[1])):\n",
    "        plt.text(j, i, cm[i, j],\n",
    "                 horizontalalignment=\"center\",\n",
    "                 color=\"white\" if cm[i, j] > thresh else \"black\")\n",
    "    plt.ylabel('True label')\n",
    "    plt.xlabel('Predicted label')\n",
    "    plt.show()\n",
    "    return"
   ]
  },
  {
   "cell_type": "code",
   "execution_count": 63,
   "metadata": {
    "collapsed": false
   },
   "outputs": [
    {
     "data": {
      "image/png": "[encoded data removed]",
      "text/plain": [
       "<matplotlib.figure.Figure at 0x116d02110>"
      ]
     },
     "metadata": {},
     "output_type": "display_data"
    }
   ],
   "source": [
    "# Plot confusion matrix\n",
    "cnf_matrix = confusion_matrix(y, model.predict(X_scaled) )\n",
    "plot_confusion_matrix(cnf_matrix, classes= ['Low', 'High'])"
   ]
  },
  {
   "cell_type": "markdown",
   "metadata": {
    "collapsed": true
   },
   "source": [
    "As can be seen by the above confusion matrix, the model has correctly identified 64 + 67 salary brackets. It has  misidentified 7 cases where the true label was low, and 5 where the true label was high."
   ]
  },
  {
   "cell_type": "code",
   "execution_count": 64,
   "metadata": {
    "collapsed": false
   },
   "outputs": [
    {
     "data": {
      "image/png": "[encoded data removed]",
      "text/plain": [
       "<matplotlib.figure.Figure at 0x116824fd0>"
      ]
     },
     "metadata": {},
     "output_type": "display_data"
    }
   ],
   "source": [
    "# Plot ROC curve\n",
    "\n",
    "FPR, TPR, THR = roc_curve(y, model.predict_proba(X_scaled)[:,1])\n",
    "ROC_AUC = auc(FPR, TPR)\n",
    "\n",
    "\n",
    "plt.figure(figsize=[9,7])\n",
    "plt.plot(FPR, TPR, label='ROC curve (area = %0.2f)' % ROC_AUC, linewidth = 4)\n",
    "plt.plot([0, 1], [0, 1], 'k--', linewidth=4)\n",
    "plt.xlim([0.0, 1.0])\n",
    "plt.ylim([0.0, 1.05])\n",
    "plt.xlabel('False Positive Rate (1-specificity)', fontsize=18)\n",
    "plt.ylabel('True Positive Rate (sensitivity)', fontsize=18)\n",
    "plt.title('ROC curve for cancer detection', fontsize=18)\n",
    "plt.legend(loc=\"lower right\")\n",
    "plt.show()"
   ]
  },
  {
   "cell_type": "code",
   "execution_count": 75,
   "metadata": {
    "collapsed": false
   },
   "outputs": [
    {
     "name": "stdout",
     "output_type": "stream",
     "text": [
      "accuracy 0.694384236453\n",
      "precision 0.713251454428\n",
      "recall 0.640952380952\n"
     ]
    }
   ],
   "source": [
    "# L1 regularisation\n",
    "\n",
    "lr = LogisticRegressionCV(penalty = 'l1', cv = 5, Cs = 20, solver = 'liblinear')\n",
    "\n",
    "for metric in metrics:\n",
    "    scores = cross_val_score(lr, X_scaled, y, scoring = metric, cv = 5)\n",
    "    print metric, scores.mean()"
   ]
  },
  {
   "cell_type": "code",
   "execution_count": 76,
   "metadata": {
    "collapsed": false
   },
   "outputs": [
    {
     "name": "stdout",
     "output_type": "stream",
     "text": [
      "        Coef         Features\n",
      "43  0.533275         learning\n",
      "11  0.468616         business\n",
      "39  0.428829             join\n",
      "86  0.358319              sql\n",
      "19  0.259137  data scientists\n",
      "--------------------------------\n",
      "        Coef  Features\n",
      "7  -0.289398      area\n",
      "98 -0.310604      work\n",
      "85 -0.322524  software\n",
      "5  -0.372824   analyze\n",
      "12 -0.551278      care\n"
     ]
    }
   ],
   "source": [
    "# Feature importance using L1 regularisation \n",
    "model = lr.fit(X_scaled, y)\n",
    "\n",
    "importance_df = pd.DataFrame({'Features' : cv.get_feature_names(), 'Coef': model.coef_[0,:]})\n",
    "importance_df.sort_values('Coef', ascending = False, inplace = True)\n",
    "print importance_df.head()\n",
    "print '--------------------------------'\n",
    "print importance_df.tail()"
   ]
  },
  {
   "cell_type": "markdown",
   "metadata": {
    "collapsed": true
   },
   "source": [
    "Important features do not differ significantly from the model that uses L2 regularisation."
   ]
  },
  {
   "cell_type": "code",
   "execution_count": 67,
   "metadata": {
    "collapsed": false
   },
   "outputs": [
    {
     "data": {
      "image/png": "[encoded data removed]",
      "text/plain": [
       "<matplotlib.figure.Figure at 0x1161db510>"
      ]
     },
     "metadata": {},
     "output_type": "display_data"
    }
   ],
   "source": [
    "# Plot confusion matrix\n",
    "model = lr.fit(X_scaled, y)\n",
    "cnf_matrix = confusion_matrix(y, model.predict(X_scaled) )\n",
    "plot_confusion_matrix(cnf_matrix, classes= ['Low', 'High'])"
   ]
  },
  {
   "cell_type": "code",
   "execution_count": 68,
   "metadata": {
    "collapsed": false
   },
   "outputs": [
    {
     "data": {
      "image/png": "[encoded data removed]",
      "text/plain": [
       "<matplotlib.figure.Figure at 0x115a09a90>"
      ]
     },
     "metadata": {},
     "output_type": "display_data"
    }
   ],
   "source": [
    "# Plot ROC curve\n",
    "\n",
    "FPR, TPR, THR = roc_curve(y, model.predict_proba(X_scaled)[:,1])\n",
    "ROC_AUC = auc(FPR, TPR)\n",
    "\n",
    "\n",
    "plt.figure(figsize=[9,7])\n",
    "plt.plot(FPR, TPR, label='ROC curve (area = %0.2f)' % ROC_AUC, linewidth = 4)\n",
    "plt.plot([0, 1], [0, 1], 'k--', linewidth=4)\n",
    "plt.xlim([0.0, 1.0])\n",
    "plt.ylim([0.0, 1.05])\n",
    "plt.xlabel('False Positive Rate (1-specificity)', fontsize=18)\n",
    "plt.ylabel('True Positive Rate (sensitivity)', fontsize=18)\n",
    "plt.title('ROC curve for cancer detection', fontsize=18)\n",
    "plt.legend(loc=\"lower right\")\n",
    "plt.show()"
   ]
  },
  {
   "cell_type": "code",
   "execution_count": null,
   "metadata": {
    "collapsed": true
   },
   "outputs": [],
   "source": []
  }
 ],
 "metadata": {
  "kernelspec": {
   "display_name": "Python 2",
   "language": "python",
   "name": "python2"
  },
  "language_info": {
   "codemirror_mode": {
    "name": "ipython",
    "version": 2
   },
   "file_extension": ".py",
   "mimetype": "text/x-python",
   "name": "python",
   "nbconvert_exporter": "python",
   "pygments_lexer": "ipython2",
   "version": "2.7.12"
  }
 },
 "nbformat": 4,
 "nbformat_minor": 0
}
