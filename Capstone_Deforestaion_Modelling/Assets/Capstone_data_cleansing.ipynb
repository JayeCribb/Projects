{
 "cells": [
  {
   "cell_type": "markdown",
   "metadata": {},
   "source": [
    "## Capstone - Data Cleansing"
   ]
  },
  {
   "cell_type": "code",
   "execution_count": 1,
   "metadata": {
    "collapsed": true
   },
   "outputs": [],
   "source": [
    "import pandas as pd\n",
    "import numpy as np\n",
    "import re\n",
    "import string"
   ]
  },
  {
   "cell_type": "code",
   "execution_count": 2,
   "metadata": {
    "collapsed": false
   },
   "outputs": [
    {
     "data": {
      "text/html": [
       "<div>\n",
       "<table border=\"1\" class=\"dataframe\">\n",
       "  <thead>\n",
       "    <tr style=\"text-align: right;\">\n",
       "      <th></th>\n",
       "      <th>Unnamed: 0</th>\n",
       "      <th>index</th>\n",
       "      <th>country_name</th>\n",
       "      <th>country_code</th>\n",
       "      <th>tree_cover</th>\n",
       "      <th>tree_cover_%_2000</th>\n",
       "      <th>tree_cover_loss_2014</th>\n",
       "      <th>cover_gain</th>\n",
       "      <th>forest_type_nat</th>\n",
       "      <th>forest_type_pri</th>\n",
       "      <th>...</th>\n",
       "      <th>RAMSAR</th>\n",
       "      <th>WORLD HERITAGE</th>\n",
       "      <th>NLBI</th>\n",
       "      <th>ILO 169</th>\n",
       "      <th>Country</th>\n",
       "      <th>Agricultural land (% of land area) 2013</th>\n",
       "      <th>Population change 2015 %</th>\n",
       "      <th>GDP per capita (current US$) 2015</th>\n",
       "      <th>GDP growth (annual %) 2015</th>\n",
       "      <th>Food production index 2013</th>\n",
       "    </tr>\n",
       "  </thead>\n",
       "  <tbody>\n",
       "    <tr>\n",
       "      <th>0</th>\n",
       "      <td>0</td>\n",
       "      <td>0</td>\n",
       "      <td>Afghanistan</td>\n",
       "      <td>AFG</td>\n",
       "      <td>205KHa</td>\n",
       "      <td>0.0</td>\n",
       "      <td>2.0</td>\n",
       "      <td>303.0</td>\n",
       "      <td>NaN</td>\n",
       "      <td>NaN</td>\n",
       "      <td>...</td>\n",
       "      <td>Non Party</td>\n",
       "      <td>Ratification</td>\n",
       "      <td>Member State</td>\n",
       "      <td>Not Ratified</td>\n",
       "      <td>Afghanistan</td>\n",
       "      <td>58.1</td>\n",
       "      <td>2.8</td>\n",
       "      <td>590.3</td>\n",
       "      <td>1.5</td>\n",
       "      <td>119.8</td>\n",
       "    </tr>\n",
       "    <tr>\n",
       "      <th>1</th>\n",
       "      <td>1</td>\n",
       "      <td>2</td>\n",
       "      <td>Albania</td>\n",
       "      <td>ALB</td>\n",
       "      <td>675.8KHa</td>\n",
       "      <td>NaN</td>\n",
       "      <td>NaN</td>\n",
       "      <td>NaN</td>\n",
       "      <td>0.77</td>\n",
       "      <td>0.11</td>\n",
       "      <td>...</td>\n",
       "      <td>Contracting Party</td>\n",
       "      <td>Ratification</td>\n",
       "      <td>Member State</td>\n",
       "      <td>Not Ratified</td>\n",
       "      <td>Albania</td>\n",
       "      <td>43.3</td>\n",
       "      <td>-0.2</td>\n",
       "      <td>3,965.00</td>\n",
       "      <td>2.6</td>\n",
       "      <td>127.9</td>\n",
       "    </tr>\n",
       "  </tbody>\n",
       "</table>\n",
       "<p>2 rows × 37 columns</p>\n",
       "</div>"
      ],
      "text/plain": [
       "   Unnamed: 0  index country_name country_code tree_cover  tree_cover_%_2000  \\\n",
       "0           0      0  Afghanistan          AFG     205KHa                0.0   \n",
       "1           1      2      Albania          ALB   675.8KHa                NaN   \n",
       "\n",
       "   tree_cover_loss_2014  cover_gain  forest_type_nat  forest_type_pri  \\\n",
       "0                   2.0       303.0              NaN              NaN   \n",
       "1                   NaN         NaN             0.77             0.11   \n",
       "\n",
       "             ...                         RAMSAR WORLD HERITAGE          NLBI  \\\n",
       "0            ...                      Non Party   Ratification  Member State   \n",
       "1            ...              Contracting Party   Ratification  Member State   \n",
       "\n",
       "        ILO 169      Country Agricultural land (% of land area) 2013  \\\n",
       "0  Not Ratified  Afghanistan                                    58.1   \n",
       "1  Not Ratified      Albania                                    43.3   \n",
       "\n",
       "  Population change 2015 % GDP per capita (current US$) 2015  \\\n",
       "0                      2.8                             590.3   \n",
       "1                     -0.2                          3,965.00   \n",
       "\n",
       "  GDP growth (annual %) 2015 Food production index 2013  \n",
       "0                        1.5                      119.8  \n",
       "1                        2.6                      127.9  \n",
       "\n",
       "[2 rows x 37 columns]"
      ]
     },
     "execution_count": 2,
     "metadata": {},
     "output_type": "execute_result"
    }
   ],
   "source": [
    "# Load in data \n",
    "df = pd.read_csv('final_data.csv')\n",
    "df.head(2)"
   ]
  },
  {
   "cell_type": "code",
   "execution_count": 3,
   "metadata": {
    "collapsed": true
   },
   "outputs": [],
   "source": [
    "# Drop rows where data was unavailable for Global Forest Watch\n",
    "\n",
    "df.dropna(axis =0, how = 'all', subset=[u'tree_cover', u'tree_cover_%_2000',\n",
    "       u'tree_cover_loss_2014', u'cover_gain', u'forest_type_nat',\n",
    "       u'forest_type_pri', u'forest_type_pla', u'loss_outside_plant',\n",
    "       u'loss_outside_plant_%', u'certified_forest', u'total_economy',\n",
    "       u'percentage_economy', u'employment', u'reforestation_rate_10',\n",
    "       u'carbon', u'GHG_emissions'], inplace = True)"
   ]
  },
  {
   "cell_type": "code",
   "execution_count": 4,
   "metadata": {
    "collapsed": false
   },
   "outputs": [],
   "source": [
    "# Drop redundent columns\n",
    "\n",
    "df.drop(['Unnamed: 0', 'index', 'index.1', 'Country', 'loss_outside_plant',\n",
    "        'loss_outside_plant_%'], axis = 1, inplace=True)"
   ]
  },
  {
   "cell_type": "code",
   "execution_count": 5,
   "metadata": {
    "collapsed": false
   },
   "outputs": [],
   "source": [
    "# If tree cover information was unavailable for a country then we would like to drop them\n",
    "\n",
    "df.dropna(axis = 0, subset=['tree_cover'], inplace = True)"
   ]
  },
  {
   "cell_type": "code",
   "execution_count": 6,
   "metadata": {
    "collapsed": false
   },
   "outputs": [
    {
     "data": {
      "text/plain": [
       "(174, 31)"
      ]
     },
     "execution_count": 6,
     "metadata": {},
     "output_type": "execute_result"
    }
   ],
   "source": [
    "df.shape\n"
   ]
  },
  {
   "cell_type": "markdown",
   "metadata": {},
   "source": [
    "#### Changing data types\n",
    "\n",
    "A number of columns are strings containing digits. We would like to extract only the numerical information."
   ]
  },
  {
   "cell_type": "code",
   "execution_count": 7,
   "metadata": {
    "collapsed": true
   },
   "outputs": [],
   "source": [
    "# Functions \n",
    "\n",
    "# Function that standardises tree cover into hectors \n",
    "def convert(string):\n",
    "    if 'KHa' in string:\n",
    "        return int(re.search('\\d+', string).group()) * 1000\n",
    "    elif 'MHa' in string:\n",
    "        return int(re.search('\\d+', string).group()) * 1000000\n",
    "    else:\n",
    "        return int(re.search('\\d+', string).group())\n",
    "    \n",
    "# Functions that gets numbers from text\n",
    "\n",
    "def get_decimal(string):\n",
    "    try:\n",
    "        return float(re.search('\\d+.\\d+', string).group())\n",
    "    except:\n",
    "        return np.nan\n",
    "    \n",
    "def get_integer(string):\n",
    "    try:\n",
    "        return int(re.search('\\d+', string).group())\n",
    "    except:\n",
    "        return np.nan"
   ]
  },
  {
   "cell_type": "code",
   "execution_count": 8,
   "metadata": {
    "collapsed": false
   },
   "outputs": [],
   "source": [
    "# Apply functions to columns\n",
    "\n",
    "df['tree_cover'] = df['tree_cover'].apply(convert)\n",
    "df['total_economy'] = df['total_economy'].apply(get_decimal)\n",
    "df['percentage_economy'] = df['percentage_economy'].apply(get_decimal)\n",
    "df['employment'] = df['employment'].apply(get_integer)\n",
    "df['reforestation_rate_10'] = df['reforestation_rate_10'].apply(get_integer)\n",
    "df['carbon'] = df['carbon'].str.replace(',', '')\n",
    "df['carbon'] = df['carbon'].apply(get_integer)\n",
    "df['GHG_emissions'] = df['GHG_emissions'].apply(get_decimal)\n",
    "df['certified_forest'] = df['certified_forest'].apply(get_integer)"
   ]
  },
  {
   "cell_type": "code",
   "execution_count": 9,
   "metadata": {
    "collapsed": false
   },
   "outputs": [],
   "source": [
    "df['GDP per capita (current US$) 2015'] = df['GDP per capita (current US$) 2015'].str.replace(',','')\n",
    "df['GDP per capita (current US$) 2015'] = df['GDP per capita (current US$) 2015'].astype(float)"
   ]
  },
  {
   "cell_type": "code",
   "execution_count": 10,
   "metadata": {
    "collapsed": false
   },
   "outputs": [],
   "source": [
    "# Creating additional columns\n",
    "\n",
    "# Normalising forest loss which will eventually become our target\n",
    "df['loss_14_%'] = (df['tree_cover_loss_2014'] / df['tree_cover']) * 100\n",
    "\n",
    "# Percentage of certified forest\n",
    "df['certified_%'] = (df['certified_forest'] / df['tree_cover']) * 100\n",
    "\n",
    "# Percentage of forest gained\n",
    "df['cover_gained_%'] = (df['cover_gain'] / df['tree_cover']) * 100\n",
    "\n",
    "# Forest loss to quartiles for EDA\n",
    "df['loss_quartile'] = pd.qcut(df['loss_14_%'], 4, labels = [1 ,2 ,3 ,4])"
   ]
  },
  {
   "cell_type": "code",
   "execution_count": 11,
   "metadata": {
    "collapsed": true
   },
   "outputs": [],
   "source": [
    "# Cleaning convention columns\n",
    "\n",
    "# Cleaning categories\n",
    "dicty = {'Non-Party': 'Non Party', 'Withdrawn': 'Non Party', '????': 'Non Party', '-': 'Not Ratified',\n",
    "         'Non Member': 'Non Party', 'Not Ratified': 'Non Party'  }\n",
    "df = df.replace(dicty)\n",
    "\n",
    "# Dummify UNFCC columns\n",
    "df = pd.get_dummies(df, columns = ['UNFCCC'], drop_first= False)\n",
    "\n",
    "# Membership\n",
    "members = {'Ratification': 1, 'Accession': 1, 'Non Party': 0, 'Approval': 1, 'Acceptance': 1,\n",
    "          'Succession' : 1, 'Signature': 1, 'Consuming Member': 1, 'Producing Member': 1, 'Continuation': 1,\n",
    "          'Contracting Party': 1, 'Member State': 1, 'Non Member State': 0 }\n",
    "df.replace(members, inplace = True)"
   ]
  },
  {
   "cell_type": "code",
   "execution_count": 12,
   "metadata": {
    "collapsed": false
   },
   "outputs": [],
   "source": [
    "# Save to csv\n",
    "\n",
    "df.to_csv('cleaned_data.csv')"
   ]
  },
  {
   "cell_type": "code",
   "execution_count": 15,
   "metadata": {
    "collapsed": false,
    "scrolled": true
   },
   "outputs": [],
   "source": [
    "# Import data to Local Postgres Database\n",
    "\n",
    "import sqlalchemy\n",
    "from sqlalchemy import create_engine\n",
    "\n",
    "engine = create_engine('postgresql://jayecribb@localhost:5432/capstone')\n",
    "df.to_sql('cleaned_data',  engine, if_exists='replace')"
   ]
  },
  {
   "cell_type": "code",
   "execution_count": null,
   "metadata": {
    "collapsed": false
   },
   "outputs": [],
   "source": []
  },
  {
   "cell_type": "code",
   "execution_count": null,
   "metadata": {
    "collapsed": true
   },
   "outputs": [],
   "source": []
  }
 ],
 "metadata": {
  "kernelspec": {
   "display_name": "Python 2",
   "language": "python",
   "name": "python2"
  },
  "language_info": {
   "codemirror_mode": {
    "name": "ipython",
    "version": 2
   },
   "file_extension": ".py",
   "mimetype": "text/x-python",
   "name": "python",
   "nbconvert_exporter": "python",
   "pygments_lexer": "ipython2",
   "version": "2.7.12"
  }
 },
 "nbformat": 4,
 "nbformat_minor": 0
}
