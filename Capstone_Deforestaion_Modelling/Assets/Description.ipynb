{
 "cells": [
  {
   "cell_type": "markdown",
   "metadata": {},
   "source": [
    "## Modelling Global Deforestation"
   ]
  },
  {
   "cell_type": "markdown",
   "metadata": {},
   "source": [
    "**PROBLEM STATEMENT:** \n",
    "\n",
    "Determining the influential factors contributing to the rate of global deforestation in order to produce a model to determine canopy change.\n",
    "\n",
    "The aim of the project is to determine social, economic and environmental features which are potential predictors of the rate in which trees / forests are being destroyed. These predictors can then be used as a tool to either manage the problem, or as an aid to predict changes in canopy cover.\n",
    "\n",
    "**DATA**\n",
    "\n",
    "The majority of the data being used for this project has been taken from Global Forest Watch. Global Forest Watch is an open source data repositary whose purpose is to empower people everywhere to better manage and conserve forest landscapes. In addition to this, economic data has also been taken from The World Data Bank, using both data sets in conjunction in order to try and biuld a more complete picture of factors which might contribute to canopy change. \n",
    "\n",
    "Data was collected from Global Forest Watch by means of scraping, using the Python libraries Beautiful Soup and Selenium. Selenium was used because of the dynamical nature of the webpages.\n",
    "\n",
    "The combined data set contains information on 174 countries comprising of 31 feature, including the amount of forest lost. Below is a brief description of some of the features used to model.\n",
    "\n",
    "**Loss 14 %:** The amount of forest lost in 2014 as a percentage of the total canopy cover. (target)\n",
    "\n",
    "**Forest Type Nat/Pla/Pri:** Percentage of total canopy cover classed as either natural, planted or primary.\n",
    "\n",
    "**Certified %:** The amount of certified forest as a percentage of the total canopy cover.\n",
    "\n",
    "**Cover Gained %:** The amount of tree cover gained in the period 2001 - 2012 as a percentage of total canopy cover.\n",
    "\n",
    "**Percentage Economy:** The percentage of GDP comprised of the forestry sector.\n",
    "\n",
    "**Employment:** 2011 reported, formal employment in the forestry sector. This figure does not include unreported,                     informal, and indirect employment. According to the FAO, it is likely an underestimate.\n",
    "\n",
    "**GHG_Emissions:** Percentage of a country’s greenhouse gas emissions resulting from changes in land use and forestry                    in 2011.\n",
    "                   \n",
    "**Agricultural Land:** Percentage of total land cover used for agriculture 2013.\n",
    "\n",
    "**Food Production Index 2013:** Corresponds to the amount of edible crops grown, excluding tea and coffee.\n",
    "\n",
    "**Population Change 2015 %:** Population change as a percentage of 2014 population estimates.\n",
    "\n",
    "**GDP per Capita:** Gross domestic product USD 2015\n",
    "\n",
    "**GDP Growth 2015:** Change in gross domestic product as a percentage of 2014 figures\n",
    "\n",
    "**CBD, KYOTO, UNCCD, ITTA, CITES, RAMSAR, WORLD HERITAGE, NLBI, ILO 169, UNFCCC:** Membership of conventions,\n",
    "                                                                                   1 for member and 0 for non-member\n",
    "\n",
    "\n",
    "Data was unavailable for a number of countries and features, which may comprise model performance, due to the incomplete picture of global deforestation. Another limitation of the data is that the data collected is the latest published figures, which differ across features.                                                                    \n",
    "\n",
    "**APPROACH**\n",
    "\n",
    "The first stage will be to conduct some exploratory data analysis (EDA). The EDA will be used as an aid in determining the potential features which may be good predictors of forest loss, and also determining outlier countries which could comprimise model performance. The performance of the model will be measured by the mean squared error produced by comparing the predicted forest loss figures against the true values. This measure was chosen for its interpretability and because it is continuously differentiable, which is necessary for model optimisation. The draw-back of this measure is that it is sensitive to outliers and does not track the direction of the error. The goal is to be able to produce a model that outperforms the errors produced by predicting the global average forest loss figure for each country.\n",
    "\n",
    "A number of regression models will be tested in order to determine the 'best' model. Each model will be optimised using the Gridsearch optimisation technique, which seeks to find model parameters which minimise the mean squared error. Model performance will also be enhanced by means of feature selection and other techniques which seek to reduce the dimentionality of the data. Reducing the dimentionality of the data often leads to models which tend not to overfit the data, resulting in models which generalise well. Ensemble methods will also be tested to improve the generalisation over a single estimator."
   ]
  },
  {
   "cell_type": "code",
   "execution_count": null,
   "metadata": {
    "collapsed": true
   },
   "outputs": [],
   "source": []
  }
 ],
 "metadata": {
  "kernelspec": {
   "display_name": "Python 2",
   "language": "python",
   "name": "python2"
  },
  "language_info": {
   "codemirror_mode": {
    "name": "ipython",
    "version": 2
   },
   "file_extension": ".py",
   "mimetype": "text/x-python",
   "name": "python",
   "nbconvert_exporter": "python",
   "pygments_lexer": "ipython2",
   "version": "2.7.12"
  }
 },
 "nbformat": 4,
 "nbformat_minor": 0
}
