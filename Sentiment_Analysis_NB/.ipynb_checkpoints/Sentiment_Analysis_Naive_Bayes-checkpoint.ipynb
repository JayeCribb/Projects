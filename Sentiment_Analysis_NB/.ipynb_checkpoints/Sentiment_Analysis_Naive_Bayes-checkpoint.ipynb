{
 "cells": [
  {
   "cell_type": "markdown",
   "metadata": {},
   "source": [
    "## Sentiment Analysis using Naive Bayes"
   ]
  },
  {
   "cell_type": "markdown",
   "metadata": {},
   "source": [
    "In the following we will predict whether a movie review is positive or not based on the text within the review. This problem is a supervised learning problem where each review has a corresponding label of good or bad. The algorithm used for this classification task will be Naive Bayes, as it has been found to perform particularly well on text, as well as being fast."
   ]
  },
  {
   "cell_type": "code",
   "execution_count": 43,
   "metadata": {
    "collapsed": true
   },
   "outputs": [],
   "source": [
    "# Load libraries\n",
    "\n",
    "import pandas as pd\n",
    "import numpy as np\n",
    "\n",
    "from sklearn.naive_bayes import BernoulliNB\n",
    "from sklearn.model_selection import cross_val_score, train_test_split\n",
    "from sklearn.feature_extraction.text import CountVectorizer\n",
    "from sklearn.metrics import accuracy_score"
   ]
  },
  {
   "cell_type": "code",
   "execution_count": 4,
   "metadata": {
    "collapsed": false
   },
   "outputs": [
    {
     "data": {
      "text/html": [
       "<div>\n",
       "<table border=\"1\" class=\"dataframe\">\n",
       "  <thead>\n",
       "    <tr style=\"text-align: right;\">\n",
       "      <th></th>\n",
       "      <th>critic</th>\n",
       "      <th>fresh</th>\n",
       "      <th>imdb</th>\n",
       "      <th>publication</th>\n",
       "      <th>quote</th>\n",
       "      <th>review_date</th>\n",
       "      <th>rtid</th>\n",
       "      <th>title</th>\n",
       "    </tr>\n",
       "  </thead>\n",
       "  <tbody>\n",
       "    <tr>\n",
       "      <th>0</th>\n",
       "      <td>Derek Adams</td>\n",
       "      <td>fresh</td>\n",
       "      <td>114709.0</td>\n",
       "      <td>Time Out</td>\n",
       "      <td>So ingenious in concept, design and execution ...</td>\n",
       "      <td>2009-10-04</td>\n",
       "      <td>9559.0</td>\n",
       "      <td>Toy story</td>\n",
       "    </tr>\n",
       "    <tr>\n",
       "      <th>1</th>\n",
       "      <td>Richard Corliss</td>\n",
       "      <td>fresh</td>\n",
       "      <td>114709.0</td>\n",
       "      <td>TIME Magazine</td>\n",
       "      <td>The year's most inventive comedy.</td>\n",
       "      <td>2008-08-31</td>\n",
       "      <td>9559.0</td>\n",
       "      <td>Toy story</td>\n",
       "    </tr>\n",
       "    <tr>\n",
       "      <th>2</th>\n",
       "      <td>David Ansen</td>\n",
       "      <td>fresh</td>\n",
       "      <td>114709.0</td>\n",
       "      <td>Newsweek</td>\n",
       "      <td>A winning animated feature that has something ...</td>\n",
       "      <td>2008-08-18</td>\n",
       "      <td>9559.0</td>\n",
       "      <td>Toy story</td>\n",
       "    </tr>\n",
       "    <tr>\n",
       "      <th>3</th>\n",
       "      <td>Leonard Klady</td>\n",
       "      <td>fresh</td>\n",
       "      <td>114709.0</td>\n",
       "      <td>Variety</td>\n",
       "      <td>The film sports a provocative and appealing st...</td>\n",
       "      <td>2008-06-09</td>\n",
       "      <td>9559.0</td>\n",
       "      <td>Toy story</td>\n",
       "    </tr>\n",
       "    <tr>\n",
       "      <th>4</th>\n",
       "      <td>Jonathan Rosenbaum</td>\n",
       "      <td>fresh</td>\n",
       "      <td>114709.0</td>\n",
       "      <td>Chicago Reader</td>\n",
       "      <td>An entertaining computer-generated, hyperreali...</td>\n",
       "      <td>2008-03-10</td>\n",
       "      <td>9559.0</td>\n",
       "      <td>Toy story</td>\n",
       "    </tr>\n",
       "  </tbody>\n",
       "</table>\n",
       "</div>"
      ],
      "text/plain": [
       "               critic  fresh      imdb     publication  \\\n",
       "0         Derek Adams  fresh  114709.0        Time Out   \n",
       "1     Richard Corliss  fresh  114709.0   TIME Magazine   \n",
       "2         David Ansen  fresh  114709.0        Newsweek   \n",
       "3       Leonard Klady  fresh  114709.0         Variety   \n",
       "4  Jonathan Rosenbaum  fresh  114709.0  Chicago Reader   \n",
       "\n",
       "                                               quote review_date    rtid  \\\n",
       "0  So ingenious in concept, design and execution ...  2009-10-04  9559.0   \n",
       "1                  The year's most inventive comedy.  2008-08-31  9559.0   \n",
       "2  A winning animated feature that has something ...  2008-08-18  9559.0   \n",
       "3  The film sports a provocative and appealing st...  2008-06-09  9559.0   \n",
       "4  An entertaining computer-generated, hyperreali...  2008-03-10  9559.0   \n",
       "\n",
       "       title  \n",
       "0  Toy story  \n",
       "1  Toy story  \n",
       "2  Toy story  \n",
       "3  Toy story  \n",
       "4  Toy story  "
      ]
     },
     "execution_count": 4,
     "metadata": {},
     "output_type": "execute_result"
    }
   ],
   "source": [
    "# Load data\n",
    "\n",
    "df = pd.read_csv('./Data/rt_critics.csv')\n",
    "df.head()"
   ]
  },
  {
   "cell_type": "code",
   "execution_count": 9,
   "metadata": {
    "collapsed": false
   },
   "outputs": [],
   "source": [
    "# Remove reviews where classification label was unavailable\n",
    "\n",
    "df = df[~(df['fresh'] == 'none')]"
   ]
  },
  {
   "cell_type": "code",
   "execution_count": 11,
   "metadata": {
    "collapsed": true
   },
   "outputs": [],
   "source": [
    "# Re-label classification to binary\n",
    "\n",
    "df['fresh'] = df['fresh'].map(lambda x: 1 if x == 'fresh' else 0)"
   ]
  },
  {
   "cell_type": "markdown",
   "metadata": {},
   "source": [
    "### Modeliing"
   ]
  },
  {
   "cell_type": "code",
   "execution_count": 12,
   "metadata": {
    "collapsed": true
   },
   "outputs": [],
   "source": [
    "# Create predictor matrix using words from critic quotes\n",
    "\n",
    "# Binary = True will ensure that all non-zero counts will be set to 1, which is useful for descrete probabality \n",
    "# models such as Naive Bayes \n",
    "cv = CountVectorizer(stop_words = 'english', binary = True, ngram_range = (1, 2), max_features = 3000)\n",
    "X = cv.fit_transform(df['quote'])"
   ]
  },
  {
   "cell_type": "code",
   "execution_count": 14,
   "metadata": {
    "collapsed": false
   },
   "outputs": [],
   "source": [
    "# Create dataframe from words\n",
    "\n",
    "X_df = pd.DataFrame(X.todense(), columns = cv.get_feature_names())"
   ]
  },
  {
   "cell_type": "code",
   "execution_count": 16,
   "metadata": {
    "collapsed": false
   },
   "outputs": [],
   "source": [
    "# Train test split\n",
    "\n",
    "X_train, X_test, y_train, y_test = train_test_split(X_df.values, df['fresh'].values, \n",
    "                                                    test_size = 0.3, random_state = 42)"
   ]
  },
  {
   "cell_type": "code",
   "execution_count": 19,
   "metadata": {
    "collapsed": false
   },
   "outputs": [
    {
     "data": {
      "text/plain": [
       "1    0.613069\n",
       "0    0.386931\n",
       "Name: fresh, dtype: float64"
      ]
     },
     "execution_count": 19,
     "metadata": {},
     "output_type": "execute_result"
    }
   ],
   "source": [
    "# The baseline accuracy is defined by predicting good (fresh) for every single review - 61%\n",
    "\n",
    "df['fresh'].value_counts() / len(df['fresh'])"
   ]
  },
  {
   "cell_type": "code",
   "execution_count": 20,
   "metadata": {
    "collapsed": false
   },
   "outputs": [
    {
     "name": "stdout",
     "output_type": "stream",
     "text": [
      "Model Training Accuracy:  0.741203406564\n"
     ]
    }
   ],
   "source": [
    "# Here we use Bernoulli Naive Bayes, as the classification is a binary result, good or bad\n",
    "\n",
    "nb = BernoulliNB()\n",
    "scores = cross_val_score(nb, X_train, y_train, cv = 5, scoring = 'accuracy')\n",
    "print 'Model Training Accuracy: ', scores.mean()"
   ]
  },
  {
   "cell_type": "code",
   "execution_count": 44,
   "metadata": {
    "collapsed": false
   },
   "outputs": [
    {
     "name": "stdout",
     "output_type": "stream",
     "text": [
      "Model Test Accuracy:  0.746856465006\n"
     ]
    }
   ],
   "source": [
    "# Test set accuracy\n",
    "\n",
    "model = nb.fit(X_train, y_train)\n",
    "print 'Model Test Accuracy: ', accuracy_score(y_test, model.predict(X_test))"
   ]
  },
  {
   "cell_type": "code",
   "execution_count": 26,
   "metadata": {
    "collapsed": true
   },
   "outputs": [],
   "source": [
    "# Probabilities of fresh / rotten given words\n",
    "\n",
    "log_proba = model.feature_log_prob_\n",
    "proba = np.exp(log_proba)"
   ]
  },
  {
   "cell_type": "code",
   "execution_count": 29,
   "metadata": {
    "collapsed": false
   },
   "outputs": [],
   "source": [
    "# Fresh / Rotten probablilities\n",
    "\n",
    "rotten_proba = proba[0]\n",
    "fresh_proba = proba[1]"
   ]
  },
  {
   "cell_type": "code",
   "execution_count": 36,
   "metadata": {
    "collapsed": false
   },
   "outputs": [
    {
     "data": {
      "text/html": [
       "<div>\n",
       "<table border=\"1\" class=\"dataframe\">\n",
       "  <thead>\n",
       "    <tr style=\"text-align: right;\">\n",
       "      <th></th>\n",
       "      <th>Fresh_proba</th>\n",
       "      <th>Rotten_proba</th>\n",
       "      <th>Words</th>\n",
       "    </tr>\n",
       "  </thead>\n",
       "  <tbody>\n",
       "    <tr>\n",
       "      <th>2998</th>\n",
       "      <td>0.000994</td>\n",
       "      <td>0.000789</td>\n",
       "      <td>zemeckis</td>\n",
       "    </tr>\n",
       "    <tr>\n",
       "      <th>2999</th>\n",
       "      <td>0.000331</td>\n",
       "      <td>0.002105</td>\n",
       "      <td>zone</td>\n",
       "    </tr>\n",
       "  </tbody>\n",
       "</table>\n",
       "</div>"
      ],
      "text/plain": [
       "      Fresh_proba  Rotten_proba     Words\n",
       "2998     0.000994      0.000789  zemeckis\n",
       "2999     0.000331      0.002105      zone"
      ]
     },
     "execution_count": 36,
     "metadata": {},
     "output_type": "execute_result"
    }
   ],
   "source": [
    "# Create data frame of words with corresponding probabilities\n",
    "\n",
    "proba_df = pd.DataFrame({ 'Words':X_df.columns.values, 'Fresh_proba':fresh_proba, 'Rotten_proba':rotten_proba})\n",
    "proba_df.tail(2)"
   ]
  },
  {
   "cell_type": "code",
   "execution_count": 40,
   "metadata": {
    "collapsed": true
   },
   "outputs": [],
   "source": [
    "# Create column that is the difference between fresh probability of appearance and rotten\n",
    "\n",
    "proba_df['Diff'] = proba_df['Fresh_proba'] - proba_df['Rotten_proba']"
   ]
  },
  {
   "cell_type": "markdown",
   "metadata": {},
   "source": [
    "#### Most likely words for fresh and rotten reviews"
   ]
  },
  {
   "cell_type": "code",
   "execution_count": 41,
   "metadata": {
    "collapsed": false
   },
   "outputs": [
    {
     "data": {
      "text/html": [
       "<div>\n",
       "<table border=\"1\" class=\"dataframe\">\n",
       "  <thead>\n",
       "    <tr style=\"text-align: right;\">\n",
       "      <th></th>\n",
       "      <th>Fresh_proba</th>\n",
       "      <th>Rotten_proba</th>\n",
       "      <th>Words</th>\n",
       "      <th>Diff</th>\n",
       "    </tr>\n",
       "  </thead>\n",
       "  <tbody>\n",
       "    <tr>\n",
       "      <th>996</th>\n",
       "      <td>0.162498</td>\n",
       "      <td>0.112865</td>\n",
       "      <td>film</td>\n",
       "      <td>0.049633</td>\n",
       "    </tr>\n",
       "    <tr>\n",
       "      <th>240</th>\n",
       "      <td>0.042902</td>\n",
       "      <td>0.017101</td>\n",
       "      <td>best</td>\n",
       "      <td>0.025801</td>\n",
       "    </tr>\n",
       "    <tr>\n",
       "      <th>1178</th>\n",
       "      <td>0.028160</td>\n",
       "      <td>0.007630</td>\n",
       "      <td>great</td>\n",
       "      <td>0.020530</td>\n",
       "    </tr>\n",
       "    <tr>\n",
       "      <th>848</th>\n",
       "      <td>0.023190</td>\n",
       "      <td>0.005788</td>\n",
       "      <td>entertaining</td>\n",
       "      <td>0.017402</td>\n",
       "    </tr>\n",
       "    <tr>\n",
       "      <th>1929</th>\n",
       "      <td>0.021700</td>\n",
       "      <td>0.006577</td>\n",
       "      <td>performance</td>\n",
       "      <td>0.015122</td>\n",
       "    </tr>\n",
       "    <tr>\n",
       "      <th>849</th>\n",
       "      <td>0.018884</td>\n",
       "      <td>0.004473</td>\n",
       "      <td>entertainment</td>\n",
       "      <td>0.014411</td>\n",
       "    </tr>\n",
       "    <tr>\n",
       "      <th>104</th>\n",
       "      <td>0.021368</td>\n",
       "      <td>0.008156</td>\n",
       "      <td>american</td>\n",
       "      <td>0.013212</td>\n",
       "    </tr>\n",
       "    <tr>\n",
       "      <th>1094</th>\n",
       "      <td>0.024681</td>\n",
       "      <td>0.011839</td>\n",
       "      <td>fun</td>\n",
       "      <td>0.012842</td>\n",
       "    </tr>\n",
       "    <tr>\n",
       "      <th>1930</th>\n",
       "      <td>0.021037</td>\n",
       "      <td>0.008682</td>\n",
       "      <td>performances</td>\n",
       "      <td>0.012355</td>\n",
       "    </tr>\n",
       "    <tr>\n",
       "      <th>1099</th>\n",
       "      <td>0.034454</td>\n",
       "      <td>0.022363</td>\n",
       "      <td>funny</td>\n",
       "      <td>0.012092</td>\n",
       "    </tr>\n",
       "  </tbody>\n",
       "</table>\n",
       "</div>"
      ],
      "text/plain": [
       "      Fresh_proba  Rotten_proba          Words      Diff\n",
       "996      0.162498      0.112865           film  0.049633\n",
       "240      0.042902      0.017101           best  0.025801\n",
       "1178     0.028160      0.007630          great  0.020530\n",
       "848      0.023190      0.005788   entertaining  0.017402\n",
       "1929     0.021700      0.006577    performance  0.015122\n",
       "849      0.018884      0.004473  entertainment  0.014411\n",
       "104      0.021368      0.008156       american  0.013212\n",
       "1094     0.024681      0.011839            fun  0.012842\n",
       "1930     0.021037      0.008682   performances  0.012355\n",
       "1099     0.034454      0.022363          funny  0.012092"
      ]
     },
     "execution_count": 41,
     "metadata": {},
     "output_type": "execute_result"
    }
   ],
   "source": [
    "# Fresh\n",
    "\n",
    "proba_df.sort_values(by = ['Diff'], ascending= False).head(10)"
   ]
  },
  {
   "cell_type": "code",
   "execution_count": 42,
   "metadata": {
    "collapsed": false
   },
   "outputs": [
    {
     "data": {
      "text/html": [
       "<div>\n",
       "<table border=\"1\" class=\"dataframe\">\n",
       "  <thead>\n",
       "    <tr style=\"text-align: right;\">\n",
       "      <th></th>\n",
       "      <th>Fresh_proba</th>\n",
       "      <th>Rotten_proba</th>\n",
       "      <th>Words</th>\n",
       "      <th>Diff</th>\n",
       "    </tr>\n",
       "  </thead>\n",
       "  <tbody>\n",
       "    <tr>\n",
       "      <th>1554</th>\n",
       "      <td>0.019546</td>\n",
       "      <td>0.028940</td>\n",
       "      <td>little</td>\n",
       "      <td>-0.009394</td>\n",
       "    </tr>\n",
       "    <tr>\n",
       "      <th>2286</th>\n",
       "      <td>0.010104</td>\n",
       "      <td>0.021836</td>\n",
       "      <td>script</td>\n",
       "      <td>-0.011732</td>\n",
       "    </tr>\n",
       "    <tr>\n",
       "      <th>741</th>\n",
       "      <td>0.016565</td>\n",
       "      <td>0.028677</td>\n",
       "      <td>doesn</td>\n",
       "      <td>-0.012112</td>\n",
       "    </tr>\n",
       "    <tr>\n",
       "      <th>2124</th>\n",
       "      <td>0.007288</td>\n",
       "      <td>0.019732</td>\n",
       "      <td>really</td>\n",
       "      <td>-0.012443</td>\n",
       "    </tr>\n",
       "    <tr>\n",
       "      <th>1975</th>\n",
       "      <td>0.014080</td>\n",
       "      <td>0.026572</td>\n",
       "      <td>plot</td>\n",
       "      <td>-0.012492</td>\n",
       "    </tr>\n",
       "    <tr>\n",
       "      <th>1453</th>\n",
       "      <td>0.027166</td>\n",
       "      <td>0.041042</td>\n",
       "      <td>just</td>\n",
       "      <td>-0.013876</td>\n",
       "    </tr>\n",
       "    <tr>\n",
       "      <th>1417</th>\n",
       "      <td>0.010436</td>\n",
       "      <td>0.025783</td>\n",
       "      <td>isn</td>\n",
       "      <td>-0.015347</td>\n",
       "    </tr>\n",
       "    <tr>\n",
       "      <th>1748</th>\n",
       "      <td>0.128375</td>\n",
       "      <td>0.145751</td>\n",
       "      <td>movie</td>\n",
       "      <td>-0.017376</td>\n",
       "    </tr>\n",
       "    <tr>\n",
       "      <th>198</th>\n",
       "      <td>0.007288</td>\n",
       "      <td>0.026309</td>\n",
       "      <td>bad</td>\n",
       "      <td>-0.019020</td>\n",
       "    </tr>\n",
       "    <tr>\n",
       "      <th>1541</th>\n",
       "      <td>0.043896</td>\n",
       "      <td>0.069718</td>\n",
       "      <td>like</td>\n",
       "      <td>-0.025823</td>\n",
       "    </tr>\n",
       "  </tbody>\n",
       "</table>\n",
       "</div>"
      ],
      "text/plain": [
       "      Fresh_proba  Rotten_proba   Words      Diff\n",
       "1554     0.019546      0.028940  little -0.009394\n",
       "2286     0.010104      0.021836  script -0.011732\n",
       "741      0.016565      0.028677   doesn -0.012112\n",
       "2124     0.007288      0.019732  really -0.012443\n",
       "1975     0.014080      0.026572    plot -0.012492\n",
       "1453     0.027166      0.041042    just -0.013876\n",
       "1417     0.010436      0.025783     isn -0.015347\n",
       "1748     0.128375      0.145751   movie -0.017376\n",
       "198      0.007288      0.026309     bad -0.019020\n",
       "1541     0.043896      0.069718    like -0.025823"
      ]
     },
     "execution_count": 42,
     "metadata": {},
     "output_type": "execute_result"
    }
   ],
   "source": [
    "# Rotten\n",
    "\n",
    "proba_df.sort_values(by = ['Diff'], ascending= False).tail(10)"
   ]
  },
  {
   "cell_type": "markdown",
   "metadata": {},
   "source": [
    "#### Top movies likely to be rotten and fresh"
   ]
  },
  {
   "cell_type": "code",
   "execution_count": 46,
   "metadata": {
    "collapsed": true
   },
   "outputs": [],
   "source": [
    "# Fit model on entire data set\n",
    "\n",
    "nb = BernoulliNB()\n",
    "model = nb.fit(X_df.values, df['fresh'])"
   ]
  },
  {
   "cell_type": "code",
   "execution_count": 47,
   "metadata": {
    "collapsed": true
   },
   "outputs": [],
   "source": [
    "# Predict using model\n",
    "\n",
    "proba = model.predict_proba(X_df.values)\n",
    "rotten_proba = proba[:,0]\n",
    "fresh_proba = proba[:,1]"
   ]
  },
  {
   "cell_type": "code",
   "execution_count": 49,
   "metadata": {
    "collapsed": false
   },
   "outputs": [],
   "source": [
    "# Add probabilities to original data frame\n",
    "\n",
    "df['Rotten_proba'] = rotten_proba\n",
    "df['Fresh_proba'] = fresh_proba"
   ]
  },
  {
   "cell_type": "code",
   "execution_count": 53,
   "metadata": {
    "collapsed": false
   },
   "outputs": [
    {
     "name": "stdout",
     "output_type": "stream",
     "text": [
      "Kundun\n",
      "Frozen River\n",
      "2001: A Space Odyssey\n",
      "Sophie's Choice\n",
      "American Beauty\n",
      "The Wild Bunch\n",
      "Repo Man\n",
      "Where the Wild Things Are\n",
      "City Hall\n",
      "Wolf\n"
     ]
    }
   ],
   "source": [
    "# Top 10 movies likely to be Rotten\n",
    "\n",
    "sorted_ = df.sort_values(by = 'Fresh_proba', ascending= False)\n",
    "for i in sorted_['title'].head(10):\n",
    "    print i"
   ]
  },
  {
   "cell_type": "code",
   "execution_count": 54,
   "metadata": {
    "collapsed": false
   },
   "outputs": [
    {
     "name": "stdout",
     "output_type": "stream",
     "text": [
      "The Beverly Hillbillies\n",
      "Pokémon: The First Movie\n",
      "Kazaam\n",
      "Tank Girl\n",
      "Joe's Apartment\n",
      "Wing Commander\n",
      "House Arrest\n",
      "Gung Ho\n",
      "Snow Day\n",
      "Prêt-à-Porter\n"
     ]
    }
   ],
   "source": [
    "# Top 10 movies likely to be Fresh\n",
    "\n",
    "sorted_ = df.sort_values(by = 'Rotten_proba', ascending= False)\n",
    "for i in sorted_['title'].head(10):\n",
    "    print i"
   ]
  },
  {
   "cell_type": "code",
   "execution_count": null,
   "metadata": {
    "collapsed": true
   },
   "outputs": [],
   "source": []
  }
 ],
 "metadata": {
  "kernelspec": {
   "display_name": "Python 2",
   "language": "python",
   "name": "python2"
  },
  "language_info": {
   "codemirror_mode": {
    "name": "ipython",
    "version": 2
   },
   "file_extension": ".py",
   "mimetype": "text/x-python",
   "name": "python",
   "nbconvert_exporter": "python",
   "pygments_lexer": "ipython2",
   "version": "2.7.12"
  }
 },
 "nbformat": 4,
 "nbformat_minor": 0
}
